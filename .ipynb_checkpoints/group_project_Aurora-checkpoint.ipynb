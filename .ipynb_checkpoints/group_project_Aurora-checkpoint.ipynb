{
 "cells": [
  {
   "cell_type": "markdown",
   "id": "24679815",
   "metadata": {},
   "source": [
    "# I.   Look at the big picture.\n",
    "\n",
    "An automobile company has plans to enter new markets with their existing products (P1, P2, P3, P4, and P5). After intensive market research, they’ve deduced that the behavior of the new market is similar to their existing market.\n",
    "\n",
    "In their existing market, the sales team has classified all customers into 4 segments (A, B, C, D ). Then, they performed segmented outreach and communication for a different segment of customers. This strategy has work e exceptionally well for them. They plan to use the same strategy for the new markets and have identified 2627 new potential customers.\n",
    "\n",
    "You are required to help the manager to predict the right group of the new customers."
   ]
  },
  {
   "cell_type": "markdown",
   "id": "d2f4eb5e",
   "metadata": {},
   "source": [
    "# II.Check data basic information."
   ]
  },
  {
   "cell_type": "markdown",
   "id": "e5c2e5da",
   "metadata": {},
   "source": [
    "## 1.   Get the data."
   ]
  },
  {
   "cell_type": "code",
   "execution_count": 52,
   "id": "21bd9985",
   "metadata": {},
   "outputs": [],
   "source": [
    "import numpy as np # linear algebra\n",
    "import pandas as pd # data processing, CSV file I/O (e.g. pd.read_csv)\n",
    "from collections import Counter\n",
    "from sklearn.model_selection import train_test_split\n",
    "# Input data files are available in the read-only \"../input/\" directory\n",
    "# For example, running this (by clicking run or pressing Shift+Enter) will list all files under the input directory\n",
    "\n",
    "import os\n",
    "for dirname, _, filenames in os.walk('C:/Users/ACER/OneDrive/Desktop/pythonproject/group_project_Aurora.ipynb'):\n",
    "    for filename in filenames:\n",
    "        print(os.path.join(dirname, filename))\n",
    "import matplotlib.pyplot as plt\n",
    "import seaborn as sns\n",
    "import plotly.express as px\n",
    "\n",
    "import sklearn.preprocessing\n",
    "from sklearn.impute import SimpleImputer\n",
    "from sklearn.preprocessing import OrdinalEncoder\n",
    "from sklearn.preprocessing import OneHotEncoder\n",
    "from sklearn.preprocessing import LabelEncoder\n",
    "\n",
    "from sklearn.preprocessing import MinMaxScaler, StandardScaler\n",
    "\n",
    "from sklearn import tree\n",
    "import graphviz"
   ]
  },
  {
   "cell_type": "code",
   "execution_count": 53,
   "id": "effa274a-4d1c-49e3-871e-64247bf22f50",
   "metadata": {},
   "outputs": [
    {
     "name": "stdout",
     "output_type": "stream",
     "text": [
      "Requirement already satisfied: graphviz in c:\\users\\acer\\appdata\\local\\programs\\python\\python312\\lib\\site-packages (0.20.3)\n"
     ]
    }
   ],
   "source": [
    "!pip install graphviz"
   ]
  },
  {
   "cell_type": "code",
   "execution_count": 54,
   "id": "67eae913",
   "metadata": {},
   "outputs": [],
   "source": [
    "df = pd.read_csv('./Train.csv')\n",
    "df_test = pd.read_csv('./Test.csv')"
   ]
  },
  {
   "cell_type": "markdown",
   "id": "f964077f",
   "metadata": {},
   "source": [
    "## 2.Discover and Visualize the data to gain insights"
   ]
  },
  {
   "cell_type": "code",
   "execution_count": 55,
   "id": "61bb589d",
   "metadata": {},
   "outputs": [
    {
     "data": {
      "text/plain": [
       "(8068, 11)"
      ]
     },
     "execution_count": 55,
     "metadata": {},
     "output_type": "execute_result"
    }
   ],
   "source": [
    "df.shape"
   ]
  },
  {
   "cell_type": "code",
   "execution_count": 56,
   "id": "75465532",
   "metadata": {},
   "outputs": [
    {
     "data": {
      "text/html": [
       "<div>\n",
       "<style scoped>\n",
       "    .dataframe tbody tr th:only-of-type {\n",
       "        vertical-align: middle;\n",
       "    }\n",
       "\n",
       "    .dataframe tbody tr th {\n",
       "        vertical-align: top;\n",
       "    }\n",
       "\n",
       "    .dataframe thead th {\n",
       "        text-align: right;\n",
       "    }\n",
       "</style>\n",
       "<table border=\"1\" class=\"dataframe\">\n",
       "  <thead>\n",
       "    <tr style=\"text-align: right;\">\n",
       "      <th></th>\n",
       "      <th>ID</th>\n",
       "      <th>Gender</th>\n",
       "      <th>Ever_Married</th>\n",
       "      <th>Age</th>\n",
       "      <th>Graduated</th>\n",
       "      <th>Profession</th>\n",
       "      <th>Work_Experience</th>\n",
       "      <th>Spending_Score</th>\n",
       "      <th>Family_Size</th>\n",
       "      <th>Var_1</th>\n",
       "      <th>Segmentation</th>\n",
       "    </tr>\n",
       "  </thead>\n",
       "  <tbody>\n",
       "    <tr>\n",
       "      <th>0</th>\n",
       "      <td>462809</td>\n",
       "      <td>Male</td>\n",
       "      <td>No</td>\n",
       "      <td>22</td>\n",
       "      <td>No</td>\n",
       "      <td>Healthcare</td>\n",
       "      <td>1.0</td>\n",
       "      <td>Low</td>\n",
       "      <td>4.0</td>\n",
       "      <td>Cat_4</td>\n",
       "      <td>D</td>\n",
       "    </tr>\n",
       "    <tr>\n",
       "      <th>1</th>\n",
       "      <td>462643</td>\n",
       "      <td>Female</td>\n",
       "      <td>Yes</td>\n",
       "      <td>38</td>\n",
       "      <td>Yes</td>\n",
       "      <td>Engineer</td>\n",
       "      <td>NaN</td>\n",
       "      <td>Average</td>\n",
       "      <td>3.0</td>\n",
       "      <td>Cat_4</td>\n",
       "      <td>A</td>\n",
       "    </tr>\n",
       "    <tr>\n",
       "      <th>2</th>\n",
       "      <td>466315</td>\n",
       "      <td>Female</td>\n",
       "      <td>Yes</td>\n",
       "      <td>67</td>\n",
       "      <td>Yes</td>\n",
       "      <td>Engineer</td>\n",
       "      <td>1.0</td>\n",
       "      <td>Low</td>\n",
       "      <td>1.0</td>\n",
       "      <td>Cat_6</td>\n",
       "      <td>B</td>\n",
       "    </tr>\n",
       "    <tr>\n",
       "      <th>3</th>\n",
       "      <td>461735</td>\n",
       "      <td>Male</td>\n",
       "      <td>Yes</td>\n",
       "      <td>67</td>\n",
       "      <td>Yes</td>\n",
       "      <td>Lawyer</td>\n",
       "      <td>0.0</td>\n",
       "      <td>High</td>\n",
       "      <td>2.0</td>\n",
       "      <td>Cat_6</td>\n",
       "      <td>B</td>\n",
       "    </tr>\n",
       "    <tr>\n",
       "      <th>4</th>\n",
       "      <td>462669</td>\n",
       "      <td>Female</td>\n",
       "      <td>Yes</td>\n",
       "      <td>40</td>\n",
       "      <td>Yes</td>\n",
       "      <td>Entertainment</td>\n",
       "      <td>NaN</td>\n",
       "      <td>High</td>\n",
       "      <td>6.0</td>\n",
       "      <td>Cat_6</td>\n",
       "      <td>A</td>\n",
       "    </tr>\n",
       "  </tbody>\n",
       "</table>\n",
       "</div>"
      ],
      "text/plain": [
       "       ID  Gender Ever_Married  Age Graduated     Profession  Work_Experience  \\\n",
       "0  462809    Male           No   22        No     Healthcare              1.0   \n",
       "1  462643  Female          Yes   38       Yes       Engineer              NaN   \n",
       "2  466315  Female          Yes   67       Yes       Engineer              1.0   \n",
       "3  461735    Male          Yes   67       Yes         Lawyer              0.0   \n",
       "4  462669  Female          Yes   40       Yes  Entertainment              NaN   \n",
       "\n",
       "  Spending_Score  Family_Size  Var_1 Segmentation  \n",
       "0            Low          4.0  Cat_4            D  \n",
       "1        Average          3.0  Cat_4            A  \n",
       "2            Low          1.0  Cat_6            B  \n",
       "3           High          2.0  Cat_6            B  \n",
       "4           High          6.0  Cat_6            A  "
      ]
     },
     "execution_count": 56,
     "metadata": {},
     "output_type": "execute_result"
    }
   ],
   "source": [
    "df.head()"
   ]
  },
  {
   "cell_type": "code",
   "execution_count": 57,
   "id": "1ae8a041",
   "metadata": {},
   "outputs": [
    {
     "data": {
      "text/plain": [
       "ID                   0\n",
       "Gender               0\n",
       "Ever_Married       140\n",
       "Age                  0\n",
       "Graduated           78\n",
       "Profession         124\n",
       "Work_Experience    829\n",
       "Spending_Score       0\n",
       "Family_Size        335\n",
       "Var_1               76\n",
       "Segmentation         0\n",
       "dtype: int64"
      ]
     },
     "execution_count": 57,
     "metadata": {},
     "output_type": "execute_result"
    }
   ],
   "source": [
    "# check missing value\n",
    "# drop/impute\n",
    "df.isna().sum(axis=0)"
   ]
  },
  {
   "cell_type": "code",
   "execution_count": 58,
   "id": "40f37d52",
   "metadata": {},
   "outputs": [
    {
     "data": {
      "text/plain": [
       "Counter({'D': 2268, 'A': 1972, 'C': 1970, 'B': 1858})"
      ]
     },
     "execution_count": 58,
     "metadata": {},
     "output_type": "execute_result"
    }
   ],
   "source": [
    "# check class distribution\n",
    "# We should use multi-class classification\n",
    "Counter(df['Segmentation'])"
   ]
  },
  {
   "cell_type": "code",
   "execution_count": 59,
   "id": "7d781653",
   "metadata": {},
   "outputs": [
    {
     "data": {
      "text/plain": [
       "Counter({'Cat_6': 5238,\n",
       "         'Cat_4': 1089,\n",
       "         'Cat_3': 822,\n",
       "         'Cat_2': 422,\n",
       "         'Cat_7': 203,\n",
       "         'Cat_1': 133,\n",
       "         'Cat_5': 85,\n",
       "         nan: 76})"
      ]
     },
     "execution_count": 59,
     "metadata": {},
     "output_type": "execute_result"
    }
   ],
   "source": [
    "Counter(df['Var_1'])"
   ]
  },
  {
   "cell_type": "markdown",
   "id": "7938330b",
   "metadata": {},
   "source": [
    "#### Class features:"
   ]
  },
  {
   "cell_type": "code",
   "execution_count": 60,
   "id": "59572bd4",
   "metadata": {},
   "outputs": [],
   "source": [
    "categorical_features = ['Gender', 'Ever_Married', 'Graduated', 'Profession', 'Work_Experience','Spending_Score', 'Var_1','Segmentation']\n",
    "numerical_features = ['Age','Family_Size']\n",
    "ordinal_class_feature = ['Spending_Score']\n",
    "two_class_features = ['Gender', 'Ever_Married',  'Work_Experience','Graduated','Segmentation']\n",
    "multi_class_features = ['Profession','Var_1']"
   ]
  },
  {
   "cell_type": "markdown",
   "id": "05af39b5",
   "metadata": {},
   "source": [
    "### Figure out the dirstribution of categorical faetures"
   ]
  },
  {
   "cell_type": "code",
   "execution_count": 61,
   "id": "807a7b0f",
   "metadata": {},
   "outputs": [
    {
     "name": "stdout",
     "output_type": "stream",
     "text": [
      "Requirement already satisfied: plotly in c:\\users\\acer\\appdata\\local\\programs\\python\\python312\\lib\\site-packages (5.24.0)\n",
      "Requirement already satisfied: tenacity>=6.2.0 in c:\\users\\acer\\appdata\\local\\programs\\python\\python312\\lib\\site-packages (from plotly) (9.0.0)\n",
      "Requirement already satisfied: packaging in c:\\users\\acer\\appdata\\roaming\\python\\python312\\site-packages (from plotly) (24.0)\n",
      "Note: you may need to restart the kernel to use updated packages.\n"
     ]
    }
   ],
   "source": [
    "pip install plotly"
   ]
  },
  {
   "cell_type": "markdown",
   "id": "ccea9e2e",
   "metadata": {},
   "source": [
    "#### The distribution of the label\"segementation\""
   ]
  },
  {
   "cell_type": "code",
   "execution_count": 62,
   "id": "9ecd4412",
   "metadata": {},
   "outputs": [
    {
     "data": {
      "application/vnd.plotly.v1+json": {
       "config": {
        "plotlyServerURL": "https://plot.ly"
       },
       "data": [
        {
         "domain": {
          "x": [
           0,
           1
          ],
          "y": [
           0,
           1
          ]
         },
         "hole": 0.5,
         "hovertemplate": "Segmentation=%{label}<br>count=%{value}<extra></extra>",
         "labels": [
          "A",
          "B",
          "C",
          "D"
         ],
         "legendgroup": "",
         "marker": {
          "colors": [
           "#2A3132",
           "#336B87"
          ],
          "line": {
           "color": "white",
           "width": 2
          }
         },
         "name": "",
         "showlegend": true,
         "textinfo": "percent+label",
         "textposition": "inside",
         "type": "pie",
         "values": [
          1972,
          1858,
          1970,
          2268
         ]
        }
       ],
       "layout": {
        "autosize": true,
        "legend": {
         "tracegroupgap": 0
        },
        "margin": {
         "t": 60
        },
        "showlegend": false,
        "template": {
         "data": {
          "bar": [
           {
            "error_x": {
             "color": "#2a3f5f"
            },
            "error_y": {
             "color": "#2a3f5f"
            },
            "marker": {
             "line": {
              "color": "#E5ECF6",
              "width": 0.5
             },
             "pattern": {
              "fillmode": "overlay",
              "size": 10,
              "solidity": 0.2
             }
            },
            "type": "bar"
           }
          ],
          "barpolar": [
           {
            "marker": {
             "line": {
              "color": "#E5ECF6",
              "width": 0.5
             },
             "pattern": {
              "fillmode": "overlay",
              "size": 10,
              "solidity": 0.2
             }
            },
            "type": "barpolar"
           }
          ],
          "carpet": [
           {
            "aaxis": {
             "endlinecolor": "#2a3f5f",
             "gridcolor": "white",
             "linecolor": "white",
             "minorgridcolor": "white",
             "startlinecolor": "#2a3f5f"
            },
            "baxis": {
             "endlinecolor": "#2a3f5f",
             "gridcolor": "white",
             "linecolor": "white",
             "minorgridcolor": "white",
             "startlinecolor": "#2a3f5f"
            },
            "type": "carpet"
           }
          ],
          "choropleth": [
           {
            "colorbar": {
             "outlinewidth": 0,
             "ticks": ""
            },
            "type": "choropleth"
           }
          ],
          "contour": [
           {
            "colorbar": {
             "outlinewidth": 0,
             "ticks": ""
            },
            "colorscale": [
             [
              0,
              "#0d0887"
             ],
             [
              0.1111111111111111,
              "#46039f"
             ],
             [
              0.2222222222222222,
              "#7201a8"
             ],
             [
              0.3333333333333333,
              "#9c179e"
             ],
             [
              0.4444444444444444,
              "#bd3786"
             ],
             [
              0.5555555555555556,
              "#d8576b"
             ],
             [
              0.6666666666666666,
              "#ed7953"
             ],
             [
              0.7777777777777778,
              "#fb9f3a"
             ],
             [
              0.8888888888888888,
              "#fdca26"
             ],
             [
              1,
              "#f0f921"
             ]
            ],
            "type": "contour"
           }
          ],
          "contourcarpet": [
           {
            "colorbar": {
             "outlinewidth": 0,
             "ticks": ""
            },
            "type": "contourcarpet"
           }
          ],
          "heatmap": [
           {
            "colorbar": {
             "outlinewidth": 0,
             "ticks": ""
            },
            "colorscale": [
             [
              0,
              "#0d0887"
             ],
             [
              0.1111111111111111,
              "#46039f"
             ],
             [
              0.2222222222222222,
              "#7201a8"
             ],
             [
              0.3333333333333333,
              "#9c179e"
             ],
             [
              0.4444444444444444,
              "#bd3786"
             ],
             [
              0.5555555555555556,
              "#d8576b"
             ],
             [
              0.6666666666666666,
              "#ed7953"
             ],
             [
              0.7777777777777778,
              "#fb9f3a"
             ],
             [
              0.8888888888888888,
              "#fdca26"
             ],
             [
              1,
              "#f0f921"
             ]
            ],
            "type": "heatmap"
           }
          ],
          "heatmapgl": [
           {
            "colorbar": {
             "outlinewidth": 0,
             "ticks": ""
            },
            "colorscale": [
             [
              0,
              "#0d0887"
             ],
             [
              0.1111111111111111,
              "#46039f"
             ],
             [
              0.2222222222222222,
              "#7201a8"
             ],
             [
              0.3333333333333333,
              "#9c179e"
             ],
             [
              0.4444444444444444,
              "#bd3786"
             ],
             [
              0.5555555555555556,
              "#d8576b"
             ],
             [
              0.6666666666666666,
              "#ed7953"
             ],
             [
              0.7777777777777778,
              "#fb9f3a"
             ],
             [
              0.8888888888888888,
              "#fdca26"
             ],
             [
              1,
              "#f0f921"
             ]
            ],
            "type": "heatmapgl"
           }
          ],
          "histogram": [
           {
            "marker": {
             "pattern": {
              "fillmode": "overlay",
              "size": 10,
              "solidity": 0.2
             }
            },
            "type": "histogram"
           }
          ],
          "histogram2d": [
           {
            "colorbar": {
             "outlinewidth": 0,
             "ticks": ""
            },
            "colorscale": [
             [
              0,
              "#0d0887"
             ],
             [
              0.1111111111111111,
              "#46039f"
             ],
             [
              0.2222222222222222,
              "#7201a8"
             ],
             [
              0.3333333333333333,
              "#9c179e"
             ],
             [
              0.4444444444444444,
              "#bd3786"
             ],
             [
              0.5555555555555556,
              "#d8576b"
             ],
             [
              0.6666666666666666,
              "#ed7953"
             ],
             [
              0.7777777777777778,
              "#fb9f3a"
             ],
             [
              0.8888888888888888,
              "#fdca26"
             ],
             [
              1,
              "#f0f921"
             ]
            ],
            "type": "histogram2d"
           }
          ],
          "histogram2dcontour": [
           {
            "colorbar": {
             "outlinewidth": 0,
             "ticks": ""
            },
            "colorscale": [
             [
              0,
              "#0d0887"
             ],
             [
              0.1111111111111111,
              "#46039f"
             ],
             [
              0.2222222222222222,
              "#7201a8"
             ],
             [
              0.3333333333333333,
              "#9c179e"
             ],
             [
              0.4444444444444444,
              "#bd3786"
             ],
             [
              0.5555555555555556,
              "#d8576b"
             ],
             [
              0.6666666666666666,
              "#ed7953"
             ],
             [
              0.7777777777777778,
              "#fb9f3a"
             ],
             [
              0.8888888888888888,
              "#fdca26"
             ],
             [
              1,
              "#f0f921"
             ]
            ],
            "type": "histogram2dcontour"
           }
          ],
          "mesh3d": [
           {
            "colorbar": {
             "outlinewidth": 0,
             "ticks": ""
            },
            "type": "mesh3d"
           }
          ],
          "parcoords": [
           {
            "line": {
             "colorbar": {
              "outlinewidth": 0,
              "ticks": ""
             }
            },
            "type": "parcoords"
           }
          ],
          "pie": [
           {
            "automargin": true,
            "type": "pie"
           }
          ],
          "scatter": [
           {
            "fillpattern": {
             "fillmode": "overlay",
             "size": 10,
             "solidity": 0.2
            },
            "type": "scatter"
           }
          ],
          "scatter3d": [
           {
            "line": {
             "colorbar": {
              "outlinewidth": 0,
              "ticks": ""
             }
            },
            "marker": {
             "colorbar": {
              "outlinewidth": 0,
              "ticks": ""
             }
            },
            "type": "scatter3d"
           }
          ],
          "scattercarpet": [
           {
            "marker": {
             "colorbar": {
              "outlinewidth": 0,
              "ticks": ""
             }
            },
            "type": "scattercarpet"
           }
          ],
          "scattergeo": [
           {
            "marker": {
             "colorbar": {
              "outlinewidth": 0,
              "ticks": ""
             }
            },
            "type": "scattergeo"
           }
          ],
          "scattergl": [
           {
            "marker": {
             "colorbar": {
              "outlinewidth": 0,
              "ticks": ""
             }
            },
            "type": "scattergl"
           }
          ],
          "scattermapbox": [
           {
            "marker": {
             "colorbar": {
              "outlinewidth": 0,
              "ticks": ""
             }
            },
            "type": "scattermapbox"
           }
          ],
          "scatterpolar": [
           {
            "marker": {
             "colorbar": {
              "outlinewidth": 0,
              "ticks": ""
             }
            },
            "type": "scatterpolar"
           }
          ],
          "scatterpolargl": [
           {
            "marker": {
             "colorbar": {
              "outlinewidth": 0,
              "ticks": ""
             }
            },
            "type": "scatterpolargl"
           }
          ],
          "scatterternary": [
           {
            "marker": {
             "colorbar": {
              "outlinewidth": 0,
              "ticks": ""
             }
            },
            "type": "scatterternary"
           }
          ],
          "surface": [
           {
            "colorbar": {
             "outlinewidth": 0,
             "ticks": ""
            },
            "colorscale": [
             [
              0,
              "#0d0887"
             ],
             [
              0.1111111111111111,
              "#46039f"
             ],
             [
              0.2222222222222222,
              "#7201a8"
             ],
             [
              0.3333333333333333,
              "#9c179e"
             ],
             [
              0.4444444444444444,
              "#bd3786"
             ],
             [
              0.5555555555555556,
              "#d8576b"
             ],
             [
              0.6666666666666666,
              "#ed7953"
             ],
             [
              0.7777777777777778,
              "#fb9f3a"
             ],
             [
              0.8888888888888888,
              "#fdca26"
             ],
             [
              1,
              "#f0f921"
             ]
            ],
            "type": "surface"
           }
          ],
          "table": [
           {
            "cells": {
             "fill": {
              "color": "#EBF0F8"
             },
             "line": {
              "color": "white"
             }
            },
            "header": {
             "fill": {
              "color": "#C8D4E3"
             },
             "line": {
              "color": "white"
             }
            },
            "type": "table"
           }
          ]
         },
         "layout": {
          "annotationdefaults": {
           "arrowcolor": "#2a3f5f",
           "arrowhead": 0,
           "arrowwidth": 1
          },
          "autotypenumbers": "strict",
          "coloraxis": {
           "colorbar": {
            "outlinewidth": 0,
            "ticks": ""
           }
          },
          "colorscale": {
           "diverging": [
            [
             0,
             "#8e0152"
            ],
            [
             0.1,
             "#c51b7d"
            ],
            [
             0.2,
             "#de77ae"
            ],
            [
             0.3,
             "#f1b6da"
            ],
            [
             0.4,
             "#fde0ef"
            ],
            [
             0.5,
             "#f7f7f7"
            ],
            [
             0.6,
             "#e6f5d0"
            ],
            [
             0.7,
             "#b8e186"
            ],
            [
             0.8,
             "#7fbc41"
            ],
            [
             0.9,
             "#4d9221"
            ],
            [
             1,
             "#276419"
            ]
           ],
           "sequential": [
            [
             0,
             "#0d0887"
            ],
            [
             0.1111111111111111,
             "#46039f"
            ],
            [
             0.2222222222222222,
             "#7201a8"
            ],
            [
             0.3333333333333333,
             "#9c179e"
            ],
            [
             0.4444444444444444,
             "#bd3786"
            ],
            [
             0.5555555555555556,
             "#d8576b"
            ],
            [
             0.6666666666666666,
             "#ed7953"
            ],
            [
             0.7777777777777778,
             "#fb9f3a"
            ],
            [
             0.8888888888888888,
             "#fdca26"
            ],
            [
             1,
             "#f0f921"
            ]
           ],
           "sequentialminus": [
            [
             0,
             "#0d0887"
            ],
            [
             0.1111111111111111,
             "#46039f"
            ],
            [
             0.2222222222222222,
             "#7201a8"
            ],
            [
             0.3333333333333333,
             "#9c179e"
            ],
            [
             0.4444444444444444,
             "#bd3786"
            ],
            [
             0.5555555555555556,
             "#d8576b"
            ],
            [
             0.6666666666666666,
             "#ed7953"
            ],
            [
             0.7777777777777778,
             "#fb9f3a"
            ],
            [
             0.8888888888888888,
             "#fdca26"
            ],
            [
             1,
             "#f0f921"
            ]
           ]
          },
          "colorway": [
           "#636efa",
           "#EF553B",
           "#00cc96",
           "#ab63fa",
           "#FFA15A",
           "#19d3f3",
           "#FF6692",
           "#B6E880",
           "#FF97FF",
           "#FECB52"
          ],
          "font": {
           "color": "#2a3f5f"
          },
          "geo": {
           "bgcolor": "white",
           "lakecolor": "white",
           "landcolor": "#E5ECF6",
           "showlakes": true,
           "showland": true,
           "subunitcolor": "white"
          },
          "hoverlabel": {
           "align": "left"
          },
          "hovermode": "closest",
          "mapbox": {
           "style": "light"
          },
          "paper_bgcolor": "white",
          "plot_bgcolor": "#E5ECF6",
          "polar": {
           "angularaxis": {
            "gridcolor": "white",
            "linecolor": "white",
            "ticks": ""
           },
           "bgcolor": "#E5ECF6",
           "radialaxis": {
            "gridcolor": "white",
            "linecolor": "white",
            "ticks": ""
           }
          },
          "scene": {
           "xaxis": {
            "backgroundcolor": "#E5ECF6",
            "gridcolor": "white",
            "gridwidth": 2,
            "linecolor": "white",
            "showbackground": true,
            "ticks": "",
            "zerolinecolor": "white"
           },
           "yaxis": {
            "backgroundcolor": "#E5ECF6",
            "gridcolor": "white",
            "gridwidth": 2,
            "linecolor": "white",
            "showbackground": true,
            "ticks": "",
            "zerolinecolor": "white"
           },
           "zaxis": {
            "backgroundcolor": "#E5ECF6",
            "gridcolor": "white",
            "gridwidth": 2,
            "linecolor": "white",
            "showbackground": true,
            "ticks": "",
            "zerolinecolor": "white"
           }
          },
          "shapedefaults": {
           "line": {
            "color": "#2a3f5f"
           }
          },
          "ternary": {
           "aaxis": {
            "gridcolor": "white",
            "linecolor": "white",
            "ticks": ""
           },
           "baxis": {
            "gridcolor": "white",
            "linecolor": "white",
            "ticks": ""
           },
           "bgcolor": "#E5ECF6",
           "caxis": {
            "gridcolor": "white",
            "linecolor": "white",
            "ticks": ""
           }
          },
          "title": {
           "x": 0.05
          },
          "xaxis": {
           "automargin": true,
           "gridcolor": "white",
           "linecolor": "white",
           "ticks": "",
           "title": {
            "standoff": 15
           },
           "zerolinecolor": "white",
           "zerolinewidth": 2
          },
          "yaxis": {
           "automargin": true,
           "gridcolor": "white",
           "linecolor": "white",
           "ticks": "",
           "title": {
            "standoff": 15
           },
           "zerolinecolor": "white",
           "zerolinewidth": 2
          }
         }
        },
        "title": {
         "font": {
          "color": "black",
          "family": "Calibri",
          "size": 26
         },
         "text": "Customer<br>Segmentation",
         "x": 0.5,
         "y": 0.55
        }
       }
      },
      "image/png": "[encoded data removed]",
      "text/html": [
       "<div>                            <div id=\"3f819bfc-ac71-4fd3-a591-c92932ef883e\" class=\"plotly-graph-div\" style=\"height:525px; width:100%;\"></div>            <script type=\"text/javascript\">                require([\"plotly\"], function(Plotly) {                    window.PLOTLYENV=window.PLOTLYENV || {};                                    if (document.getElementById(\"3f819bfc-ac71-4fd3-a591-c92932ef883e\")) {                    Plotly.newPlot(                        \"3f819bfc-ac71-4fd3-a591-c92932ef883e\",                        [{\"domain\":{\"x\":[0.0,1.0],\"y\":[0.0,1.0]},\"hovertemplate\":\"Segmentation=%{label}\\u003cbr\\u003ecount=%{value}\\u003cextra\\u003e\\u003c\\u002fextra\\u003e\",\"labels\":[\"A\",\"B\",\"C\",\"D\"],\"legendgroup\":\"\",\"name\":\"\",\"showlegend\":true,\"values\":[1972,1858,1970,2268],\"type\":\"pie\",\"marker\":{\"line\":{\"color\":\"white\",\"width\":2},\"colors\":[\"#2A3132\",\"#336B87\"]},\"hole\":0.5,\"textinfo\":\"percent+label\",\"textposition\":\"inside\"}],                        {\"template\":{\"data\":{\"histogram2dcontour\":[{\"type\":\"histogram2dcontour\",\"colorbar\":{\"outlinewidth\":0,\"ticks\":\"\"},\"colorscale\":[[0.0,\"#0d0887\"],[0.1111111111111111,\"#46039f\"],[0.2222222222222222,\"#7201a8\"],[0.3333333333333333,\"#9c179e\"],[0.4444444444444444,\"#bd3786\"],[0.5555555555555556,\"#d8576b\"],[0.6666666666666666,\"#ed7953\"],[0.7777777777777778,\"#fb9f3a\"],[0.8888888888888888,\"#fdca26\"],[1.0,\"#f0f921\"]]}],\"choropleth\":[{\"type\":\"choropleth\",\"colorbar\":{\"outlinewidth\":0,\"ticks\":\"\"}}],\"histogram2d\":[{\"type\":\"histogram2d\",\"colorbar\":{\"outlinewidth\":0,\"ticks\":\"\"},\"colorscale\":[[0.0,\"#0d0887\"],[0.1111111111111111,\"#46039f\"],[0.2222222222222222,\"#7201a8\"],[0.3333333333333333,\"#9c179e\"],[0.4444444444444444,\"#bd3786\"],[0.5555555555555556,\"#d8576b\"],[0.6666666666666666,\"#ed7953\"],[0.7777777777777778,\"#fb9f3a\"],[0.8888888888888888,\"#fdca26\"],[1.0,\"#f0f921\"]]}],\"heatmap\":[{\"type\":\"heatmap\",\"colorbar\":{\"outlinewidth\":0,\"ticks\":\"\"},\"colorscale\":[[0.0,\"#0d0887\"],[0.1111111111111111,\"#46039f\"],[0.2222222222222222,\"#7201a8\"],[0.3333333333333333,\"#9c179e\"],[0.4444444444444444,\"#bd3786\"],[0.5555555555555556,\"#d8576b\"],[0.6666666666666666,\"#ed7953\"],[0.7777777777777778,\"#fb9f3a\"],[0.8888888888888888,\"#fdca26\"],[1.0,\"#f0f921\"]]}],\"heatmapgl\":[{\"type\":\"heatmapgl\",\"colorbar\":{\"outlinewidth\":0,\"ticks\":\"\"},\"colorscale\":[[0.0,\"#0d0887\"],[0.1111111111111111,\"#46039f\"],[0.2222222222222222,\"#7201a8\"],[0.3333333333333333,\"#9c179e\"],[0.4444444444444444,\"#bd3786\"],[0.5555555555555556,\"#d8576b\"],[0.6666666666666666,\"#ed7953\"],[0.7777777777777778,\"#fb9f3a\"],[0.8888888888888888,\"#fdca26\"],[1.0,\"#f0f921\"]]}],\"contourcarpet\":[{\"type\":\"contourcarpet\",\"colorbar\":{\"outlinewidth\":0,\"ticks\":\"\"}}],\"contour\":[{\"type\":\"contour\",\"colorbar\":{\"outlinewidth\":0,\"ticks\":\"\"},\"colorscale\":[[0.0,\"#0d0887\"],[0.1111111111111111,\"#46039f\"],[0.2222222222222222,\"#7201a8\"],[0.3333333333333333,\"#9c179e\"],[0.4444444444444444,\"#bd3786\"],[0.5555555555555556,\"#d8576b\"],[0.6666666666666666,\"#ed7953\"],[0.7777777777777778,\"#fb9f3a\"],[0.8888888888888888,\"#fdca26\"],[1.0,\"#f0f921\"]]}],\"surface\":[{\"type\":\"surface\",\"colorbar\":{\"outlinewidth\":0,\"ticks\":\"\"},\"colorscale\":[[0.0,\"#0d0887\"],[0.1111111111111111,\"#46039f\"],[0.2222222222222222,\"#7201a8\"],[0.3333333333333333,\"#9c179e\"],[0.4444444444444444,\"#bd3786\"],[0.5555555555555556,\"#d8576b\"],[0.6666666666666666,\"#ed7953\"],[0.7777777777777778,\"#fb9f3a\"],[0.8888888888888888,\"#fdca26\"],[1.0,\"#f0f921\"]]}],\"mesh3d\":[{\"type\":\"mesh3d\",\"colorbar\":{\"outlinewidth\":0,\"ticks\":\"\"}}],\"scatter\":[{\"fillpattern\":{\"fillmode\":\"overlay\",\"size\":10,\"solidity\":0.2},\"type\":\"scatter\"}],\"parcoords\":[{\"type\":\"parcoords\",\"line\":{\"colorbar\":{\"outlinewidth\":0,\"ticks\":\"\"}}}],\"scatterpolargl\":[{\"type\":\"scatterpolargl\",\"marker\":{\"colorbar\":{\"outlinewidth\":0,\"ticks\":\"\"}}}],\"bar\":[{\"error_x\":{\"color\":\"#2a3f5f\"},\"error_y\":{\"color\":\"#2a3f5f\"},\"marker\":{\"line\":{\"color\":\"#E5ECF6\",\"width\":0.5},\"pattern\":{\"fillmode\":\"overlay\",\"size\":10,\"solidity\":0.2}},\"type\":\"bar\"}],\"scattergeo\":[{\"type\":\"scattergeo\",\"marker\":{\"colorbar\":{\"outlinewidth\":0,\"ticks\":\"\"}}}],\"scatterpolar\":[{\"type\":\"scatterpolar\",\"marker\":{\"colorbar\":{\"outlinewidth\":0,\"ticks\":\"\"}}}],\"histogram\":[{\"marker\":{\"pattern\":{\"fillmode\":\"overlay\",\"size\":10,\"solidity\":0.2}},\"type\":\"histogram\"}],\"scattergl\":[{\"type\":\"scattergl\",\"marker\":{\"colorbar\":{\"outlinewidth\":0,\"ticks\":\"\"}}}],\"scatter3d\":[{\"type\":\"scatter3d\",\"line\":{\"colorbar\":{\"outlinewidth\":0,\"ticks\":\"\"}},\"marker\":{\"colorbar\":{\"outlinewidth\":0,\"ticks\":\"\"}}}],\"scattermapbox\":[{\"type\":\"scattermapbox\",\"marker\":{\"colorbar\":{\"outlinewidth\":0,\"ticks\":\"\"}}}],\"scatterternary\":[{\"type\":\"scatterternary\",\"marker\":{\"colorbar\":{\"outlinewidth\":0,\"ticks\":\"\"}}}],\"scattercarpet\":[{\"type\":\"scattercarpet\",\"marker\":{\"colorbar\":{\"outlinewidth\":0,\"ticks\":\"\"}}}],\"carpet\":[{\"aaxis\":{\"endlinecolor\":\"#2a3f5f\",\"gridcolor\":\"white\",\"linecolor\":\"white\",\"minorgridcolor\":\"white\",\"startlinecolor\":\"#2a3f5f\"},\"baxis\":{\"endlinecolor\":\"#2a3f5f\",\"gridcolor\":\"white\",\"linecolor\":\"white\",\"minorgridcolor\":\"white\",\"startlinecolor\":\"#2a3f5f\"},\"type\":\"carpet\"}],\"table\":[{\"cells\":{\"fill\":{\"color\":\"#EBF0F8\"},\"line\":{\"color\":\"white\"}},\"header\":{\"fill\":{\"color\":\"#C8D4E3\"},\"line\":{\"color\":\"white\"}},\"type\":\"table\"}],\"barpolar\":[{\"marker\":{\"line\":{\"color\":\"#E5ECF6\",\"width\":0.5},\"pattern\":{\"fillmode\":\"overlay\",\"size\":10,\"solidity\":0.2}},\"type\":\"barpolar\"}],\"pie\":[{\"automargin\":true,\"type\":\"pie\"}]},\"layout\":{\"autotypenumbers\":\"strict\",\"colorway\":[\"#636efa\",\"#EF553B\",\"#00cc96\",\"#ab63fa\",\"#FFA15A\",\"#19d3f3\",\"#FF6692\",\"#B6E880\",\"#FF97FF\",\"#FECB52\"],\"font\":{\"color\":\"#2a3f5f\"},\"hovermode\":\"closest\",\"hoverlabel\":{\"align\":\"left\"},\"paper_bgcolor\":\"white\",\"plot_bgcolor\":\"#E5ECF6\",\"polar\":{\"bgcolor\":\"#E5ECF6\",\"angularaxis\":{\"gridcolor\":\"white\",\"linecolor\":\"white\",\"ticks\":\"\"},\"radialaxis\":{\"gridcolor\":\"white\",\"linecolor\":\"white\",\"ticks\":\"\"}},\"ternary\":{\"bgcolor\":\"#E5ECF6\",\"aaxis\":{\"gridcolor\":\"white\",\"linecolor\":\"white\",\"ticks\":\"\"},\"baxis\":{\"gridcolor\":\"white\",\"linecolor\":\"white\",\"ticks\":\"\"},\"caxis\":{\"gridcolor\":\"white\",\"linecolor\":\"white\",\"ticks\":\"\"}},\"coloraxis\":{\"colorbar\":{\"outlinewidth\":0,\"ticks\":\"\"}},\"colorscale\":{\"sequential\":[[0.0,\"#0d0887\"],[0.1111111111111111,\"#46039f\"],[0.2222222222222222,\"#7201a8\"],[0.3333333333333333,\"#9c179e\"],[0.4444444444444444,\"#bd3786\"],[0.5555555555555556,\"#d8576b\"],[0.6666666666666666,\"#ed7953\"],[0.7777777777777778,\"#fb9f3a\"],[0.8888888888888888,\"#fdca26\"],[1.0,\"#f0f921\"]],\"sequentialminus\":[[0.0,\"#0d0887\"],[0.1111111111111111,\"#46039f\"],[0.2222222222222222,\"#7201a8\"],[0.3333333333333333,\"#9c179e\"],[0.4444444444444444,\"#bd3786\"],[0.5555555555555556,\"#d8576b\"],[0.6666666666666666,\"#ed7953\"],[0.7777777777777778,\"#fb9f3a\"],[0.8888888888888888,\"#fdca26\"],[1.0,\"#f0f921\"]],\"diverging\":[[0,\"#8e0152\"],[0.1,\"#c51b7d\"],[0.2,\"#de77ae\"],[0.3,\"#f1b6da\"],[0.4,\"#fde0ef\"],[0.5,\"#f7f7f7\"],[0.6,\"#e6f5d0\"],[0.7,\"#b8e186\"],[0.8,\"#7fbc41\"],[0.9,\"#4d9221\"],[1,\"#276419\"]]},\"xaxis\":{\"gridcolor\":\"white\",\"linecolor\":\"white\",\"ticks\":\"\",\"title\":{\"standoff\":15},\"zerolinecolor\":\"white\",\"automargin\":true,\"zerolinewidth\":2},\"yaxis\":{\"gridcolor\":\"white\",\"linecolor\":\"white\",\"ticks\":\"\",\"title\":{\"standoff\":15},\"zerolinecolor\":\"white\",\"automargin\":true,\"zerolinewidth\":2},\"scene\":{\"xaxis\":{\"backgroundcolor\":\"#E5ECF6\",\"gridcolor\":\"white\",\"linecolor\":\"white\",\"showbackground\":true,\"ticks\":\"\",\"zerolinecolor\":\"white\",\"gridwidth\":2},\"yaxis\":{\"backgroundcolor\":\"#E5ECF6\",\"gridcolor\":\"white\",\"linecolor\":\"white\",\"showbackground\":true,\"ticks\":\"\",\"zerolinecolor\":\"white\",\"gridwidth\":2},\"zaxis\":{\"backgroundcolor\":\"#E5ECF6\",\"gridcolor\":\"white\",\"linecolor\":\"white\",\"showbackground\":true,\"ticks\":\"\",\"zerolinecolor\":\"white\",\"gridwidth\":2}},\"shapedefaults\":{\"line\":{\"color\":\"#2a3f5f\"}},\"annotationdefaults\":{\"arrowcolor\":\"#2a3f5f\",\"arrowhead\":0,\"arrowwidth\":1},\"geo\":{\"bgcolor\":\"white\",\"landcolor\":\"#E5ECF6\",\"subunitcolor\":\"white\",\"showland\":true,\"showlakes\":true,\"lakecolor\":\"white\"},\"title\":{\"x\":0.05},\"mapbox\":{\"style\":\"light\"}}},\"legend\":{\"tracegroupgap\":0},\"margin\":{\"t\":60},\"title\":{\"font\":{\"size\":26,\"family\":\"Calibri\",\"color\":\"black\"},\"text\":\"Customer\\u003cbr\\u003eSegmentation\",\"x\":0.5,\"y\":0.55},\"showlegend\":false},                        {\"responsive\": true}                    ).then(function(){\n",
       "                            \n",
       "var gd = document.getElementById('3f819bfc-ac71-4fd3-a591-c92932ef883e');\n",
       "var x = new MutationObserver(function (mutations, observer) {{\n",
       "        var display = window.getComputedStyle(gd).display;\n",
       "        if (!display || display === 'none') {{\n",
       "            console.log([gd, 'removed!']);\n",
       "            Plotly.purge(gd);\n",
       "            observer.disconnect();\n",
       "        }}\n",
       "}});\n",
       "\n",
       "// Listen for the removal of the full notebook cells\n",
       "var notebookContainer = gd.closest('#notebook-container');\n",
       "if (notebookContainer) {{\n",
       "    x.observe(notebookContainer, {childList: true});\n",
       "}}\n",
       "\n",
       "// Listen for the clearing of the current output cell\n",
       "var outputEl = gd.closest('.output');\n",
       "if (outputEl) {{\n",
       "    x.observe(outputEl, {childList: true});\n",
       "}}\n",
       "\n",
       "                        })                };                });            </script>        </div>"
      ]
     },
     "metadata": {},
     "output_type": "display_data"
    }
   ],
   "source": [
    "data = df.copy()\n",
    "\n",
    "plot_data = data.groupby('Segmentation')['Segmentation'].agg(['count']).reset_index()\n",
    "\n",
    "fig = px.pie(plot_data, values = plot_data['count'], names = plot_data['Segmentation'])\n",
    "\n",
    "fig.update_traces(textposition = 'inside', textinfo = 'percent + label', hole = 0.5, \n",
    "                  marker = dict(colors = ['#2A3132','#336B87'], line = dict(color = 'white', width = 2)))\n",
    "\n",
    "fig.update_layout(title_text = 'Customer<br>Segmentation', title_x = 0.5, title_y = 0.55, title_font_size = 26, \n",
    "                  title_font_family = 'Calibri', title_font_color = 'black', showlegend = False)\n",
    "                  \n",
    "fig.show()"
   ]
  },
  {
   "cell_type": "markdown",
   "id": "2047a256",
   "metadata": {},
   "source": [
    "#### The distribution of customer segemenation based on numerical features"
   ]
  },
  {
   "cell_type": "code",
   "execution_count": 63,
   "id": "1069c1ee",
   "metadata": {},
   "outputs": [
    {
     "data": {
      "image/png": "[encoded data removed]",
      "text/plain": [
       "<Figure size 1000x600 with 1 Axes>"
      ]
     },
     "metadata": {},
     "output_type": "display_data"
    },
    {
     "data": {
      "image/png": "[encoded data removed]",
      "text/plain": [
       "<Figure size 1000x600 with 1 Axes>"
      ]
     },
     "metadata": {},
     "output_type": "display_data"
    }
   ],
   "source": [
    "def plot_numerical(feature, figsize=None):\n",
    "    fig = plt.figure(figsize=(10,6))\n",
    "\n",
    "    sns.kdeplot(data[data['Segmentation']=='A'][feature])\n",
    "    sns.kdeplot(data[data['Segmentation']=='B'][feature])\n",
    "    sns.kdeplot(data[data['Segmentation']=='C'][feature])\n",
    "    sns.kdeplot(data[data['Segmentation']=='D'][feature])\n",
    "\n",
    "    fig.legend(labels=['Segmentation A', 'Segmentation B', 'Segmentation C', 'Segmentation D'])\n",
    "    plt.title('Based on %s'%feature)\n",
    "    plt.show()\n",
    "for feature in numerical_features:\n",
    "    plot_numerical(feature)"
   ]
  },
  {
   "cell_type": "markdown",
   "id": "e11f5491",
   "metadata": {},
   "source": [
    "# III. Data Preprocessing"
   ]
  },
  {
   "cell_type": "markdown",
   "id": "8c86f2c8",
   "metadata": {},
   "source": [
    "## 1.Looking for Correlations"
   ]
  },
  {
   "cell_type": "markdown",
   "id": "4d700572",
   "metadata": {},
   "source": [
    "### Transforming Text and Categorical Attributes for correlation"
   ]
  },
  {
   "cell_type": "code",
   "execution_count": 64,
   "id": "f050df15",
   "metadata": {},
   "outputs": [],
   "source": [
    "data_cor = df.copy()\n",
    "for feature in categorical_features:\n",
    "    le = LabelEncoder()\n",
    "    le.fit(data_cor[feature])\n",
    "    data_cor[feature] = le.transform(data_cor[feature])  "
   ]
  },
  {
   "cell_type": "markdown",
   "id": "980b4120",
   "metadata": {},
   "source": [
    "### Bivariate analysis in the numerical features"
   ]
  },
  {
   "cell_type": "code",
   "execution_count": 65,
   "id": "69f26d1e",
   "metadata": {},
   "outputs": [
    {
     "data": {
      "image/png": "[encoded data removed]",
      "text/plain": [
       "<Figure size 500x200 with 2 Axes>"
      ]
     },
     "metadata": {},
     "output_type": "display_data"
    }
   ],
   "source": [
    "plt.figure(figsize=(5, 2))\n",
    "corr_mat = data_cor[numerical_features].corr()\n",
    "sns.heatmap(round(corr_mat, 3),annot=True, cmap='GnBu')\n",
    "plt.show()"
   ]
  },
  {
   "cell_type": "markdown",
   "id": "108ef7f5",
   "metadata": {},
   "source": [
    "### Bivariate analysis in the categorical features"
   ]
  },
  {
   "cell_type": "code",
   "execution_count": 66,
   "id": "eea5f093",
   "metadata": {},
   "outputs": [
    {
     "data": {
      "image/png": "[encoded data removed]",
      "text/plain": [
       "<Figure size 1000x600 with 2 Axes>"
      ]
     },
     "metadata": {},
     "output_type": "display_data"
    }
   ],
   "source": [
    "plt.figure(figsize=(10,6))\n",
    "sns.heatmap(round(data_cor[categorical_features+numerical_features].corr(method='spearman'), 3), annot=True,mask=None, cmap='GnBu')\n",
    "plt.show()"
   ]
  },
  {
   "cell_type": "markdown",
   "id": "51bb7ef1",
   "metadata": {},
   "source": [
    "### Correlation Insight"
   ]
  },
  {
   "cell_type": "markdown",
   "id": "8757f464",
   "metadata": {},
   "source": [
    "The attribute Ever_married has high correlation with spending_score and Age."
   ]
  },
  {
   "cell_type": "markdown",
   "id": "62218ff9",
   "metadata": {},
   "source": [
    "## 2.Data Cleaning"
   ]
  },
  {
   "cell_type": "markdown",
   "id": "f02dec62",
   "metadata": {},
   "source": [
    "### Class features"
   ]
  },
  {
   "cell_type": "code",
   "execution_count": 67,
   "id": "d465dae3",
   "metadata": {},
   "outputs": [],
   "source": [
    "categorical_features = ['Gender', 'Ever_Married', 'Graduated', 'Profession','Spending_Score', 'Var_1','Segmentation']\n",
    "numerical_features = ['Age','Family_Size']\n",
    "ordinal_class_feature = ['Spending_Score']\n",
    "two_class_features = ['Gender', 'Ever_Married','Graduated','Segmentation']\n",
    "multi_class_features = ['Profession','Var_1']"
   ]
  },
  {
   "cell_type": "markdown",
   "id": "f692872b",
   "metadata": {},
   "source": [
    "### working with missing values"
   ]
  },
  {
   "cell_type": "code",
   "execution_count": 68,
   "id": "d72926ff",
   "metadata": {},
   "outputs": [],
   "source": [
    "#ID has distinct value for every one\n",
    "#we should just drop this feature:\n",
    "df.drop(columns =['ID','Work_Experience'],axis = 1, inplace = True)"
   ]
  },
  {
   "cell_type": "code",
   "execution_count": 69,
   "id": "73921311",
   "metadata": {},
   "outputs": [
    {
     "data": {
      "text/plain": [
       "Gender              0\n",
       "Ever_Married      140\n",
       "Age                 0\n",
       "Graduated          78\n",
       "Profession        124\n",
       "Spending_Score      0\n",
       "Family_Size         0\n",
       "Var_1              76\n",
       "Segmentation        0\n",
       "dtype: int64"
      ]
     },
     "execution_count": 69,
     "metadata": {},
     "output_type": "execute_result"
    }
   ],
   "source": [
    "#Impute the numerical NAs:\n",
    "# filling NA with mean value\n",
    "imp = SimpleImputer(missing_values=np.nan, strategy='mean')\n",
    "df[numerical_features] = pd.DataFrame(imp.fit_transform(df[numerical_features]))\n",
    "df.isna().sum(axis=0)"
   ]
  },
  {
   "cell_type": "code",
   "execution_count": 70,
   "id": "a1cf2062",
   "metadata": {},
   "outputs": [
    {
     "data": {
      "text/plain": [
       "Gender            0\n",
       "Ever_Married      0\n",
       "Age               0\n",
       "Graduated         0\n",
       "Profession        0\n",
       "Spending_Score    0\n",
       "Family_Size       0\n",
       "Var_1             0\n",
       "Segmentation      0\n",
       "dtype: int64"
      ]
     },
     "execution_count": 70,
     "metadata": {},
     "output_type": "execute_result"
    }
   ],
   "source": [
    "#Impute the Categorical NAs:\n",
    "# filling NA with most common class\n",
    "df[categorical_features] = df[categorical_features].apply(lambda x: x.fillna(x.value_counts().index[0]))\n",
    "df.isna().sum(axis=0)"
   ]
  },
  {
   "cell_type": "markdown",
   "id": "55d12ca4",
   "metadata": {},
   "source": [
    "## 3.Handling with Text and Categorical varibles"
   ]
  },
  {
   "cell_type": "code",
   "execution_count": 71,
   "id": "807c0fff",
   "metadata": {},
   "outputs": [],
   "source": [
    "from sklearn.preprocessing import OneHotEncoder, OrdinalEncoder, LabelEncoder\n",
    "data = df.copy()\n",
    "df_new = pd.DataFrame()\n",
    "\n",
    "X = data[multi_class_features]\n",
    "ohe = OneHotEncoder()\n",
    "X_encoded = ohe.fit_transform(X).toarray()\n",
    "feature_names = ohe.get_feature_names_out(input_features=X.columns)\n",
    "multi_class_encoded_data = pd.DataFrame(X_encoded, columns=feature_names)\n",
    "\n",
    "Y = data[ordinal_class_feature]\n",
    "# specify the order with categories parameter\n",
    "enc = OrdinalEncoder(categories=[('Low','Average','High')])\n",
    "ordinal_class_encoded_data = enc.fit_transform(Y)\n",
    "ordinal_class_encoded_data = pd.DataFrame(ordinal_class_encoded_data).rename(columns = {0:'Spending_Score'})\n",
    "\n",
    "for feature in two_class_features:\n",
    "    Z = data[feature]\n",
    "    le = LabelEncoder()\n",
    "    df_new[feature] = pd.DataFrame(le.fit_transform(Z)).rename(columns = {0:feature})"
   ]
  },
  {
   "cell_type": "code",
   "execution_count": 72,
   "id": "99a97526",
   "metadata": {},
   "outputs": [
    {
     "data": {
      "text/plain": [
       "Age                         0\n",
       "Family_Size                 0\n",
       "Profession_Artist           0\n",
       "Profession_Doctor           0\n",
       "Profession_Engineer         0\n",
       "Profession_Entertainment    0\n",
       "Profession_Executive        0\n",
       "Profession_Healthcare       0\n",
       "Profession_Homemaker        0\n",
       "Profession_Lawyer           0\n",
       "Profession_Marketing        0\n",
       "Var_1_Cat_1                 0\n",
       "Var_1_Cat_2                 0\n",
       "Var_1_Cat_3                 0\n",
       "Var_1_Cat_4                 0\n",
       "Var_1_Cat_5                 0\n",
       "Var_1_Cat_6                 0\n",
       "Var_1_Cat_7                 0\n",
       "Gender                      0\n",
       "Ever_Married                0\n",
       "Graduated                   0\n",
       "Segmentation                0\n",
       "dtype: int64"
      ]
     },
     "execution_count": 72,
     "metadata": {},
     "output_type": "execute_result"
    }
   ],
   "source": [
    "df_train = pd.concat([data[numerical_features], multi_class_encoded_data,df_new], axis=1)\n",
    "df_train.isna().sum(axis=0)"
   ]
  },
  {
   "cell_type": "markdown",
   "id": "26a0623b",
   "metadata": {},
   "source": [
    "## 4.Dealing with Test Datasets"
   ]
  },
  {
   "cell_type": "markdown",
   "id": "592f025e",
   "metadata": {},
   "source": [
    "### 4.1 Missing Variable"
   ]
  },
  {
   "cell_type": "markdown",
   "id": "4b4611b9",
   "metadata": {},
   "source": [
    "#### Drop NA features"
   ]
  },
  {
   "cell_type": "code",
   "execution_count": 73,
   "id": "ad95f383",
   "metadata": {},
   "outputs": [
    {
     "data": {
      "text/html": [
       "<div>\n",
       "<style scoped>\n",
       "    .dataframe tbody tr th:only-of-type {\n",
       "        vertical-align: middle;\n",
       "    }\n",
       "\n",
       "    .dataframe tbody tr th {\n",
       "        vertical-align: top;\n",
       "    }\n",
       "\n",
       "    .dataframe thead th {\n",
       "        text-align: right;\n",
       "    }\n",
       "</style>\n",
       "<table border=\"1\" class=\"dataframe\">\n",
       "  <thead>\n",
       "    <tr style=\"text-align: right;\">\n",
       "      <th></th>\n",
       "      <th>Gender</th>\n",
       "      <th>Ever_Married</th>\n",
       "      <th>Age</th>\n",
       "      <th>Graduated</th>\n",
       "      <th>Profession</th>\n",
       "      <th>Spending_Score</th>\n",
       "      <th>Family_Size</th>\n",
       "      <th>Var_1</th>\n",
       "      <th>Segmentation</th>\n",
       "    </tr>\n",
       "  </thead>\n",
       "  <tbody>\n",
       "    <tr>\n",
       "      <th>0</th>\n",
       "      <td>Female</td>\n",
       "      <td>Yes</td>\n",
       "      <td>36</td>\n",
       "      <td>Yes</td>\n",
       "      <td>Engineer</td>\n",
       "      <td>Low</td>\n",
       "      <td>1.0</td>\n",
       "      <td>Cat_6</td>\n",
       "      <td>B</td>\n",
       "    </tr>\n",
       "    <tr>\n",
       "      <th>1</th>\n",
       "      <td>Male</td>\n",
       "      <td>Yes</td>\n",
       "      <td>37</td>\n",
       "      <td>Yes</td>\n",
       "      <td>Healthcare</td>\n",
       "      <td>Average</td>\n",
       "      <td>4.0</td>\n",
       "      <td>Cat_6</td>\n",
       "      <td>A</td>\n",
       "    </tr>\n",
       "    <tr>\n",
       "      <th>2</th>\n",
       "      <td>Female</td>\n",
       "      <td>Yes</td>\n",
       "      <td>69</td>\n",
       "      <td>No</td>\n",
       "      <td>NaN</td>\n",
       "      <td>Low</td>\n",
       "      <td>1.0</td>\n",
       "      <td>Cat_6</td>\n",
       "      <td>A</td>\n",
       "    </tr>\n",
       "    <tr>\n",
       "      <th>3</th>\n",
       "      <td>Male</td>\n",
       "      <td>Yes</td>\n",
       "      <td>59</td>\n",
       "      <td>No</td>\n",
       "      <td>Executive</td>\n",
       "      <td>High</td>\n",
       "      <td>2.0</td>\n",
       "      <td>Cat_6</td>\n",
       "      <td>B</td>\n",
       "    </tr>\n",
       "    <tr>\n",
       "      <th>4</th>\n",
       "      <td>Female</td>\n",
       "      <td>No</td>\n",
       "      <td>19</td>\n",
       "      <td>No</td>\n",
       "      <td>Marketing</td>\n",
       "      <td>Low</td>\n",
       "      <td>4.0</td>\n",
       "      <td>Cat_6</td>\n",
       "      <td>A</td>\n",
       "    </tr>\n",
       "  </tbody>\n",
       "</table>\n",
       "</div>"
      ],
      "text/plain": [
       "   Gender Ever_Married  Age Graduated  Profession Spending_Score  Family_Size  \\\n",
       "0  Female          Yes   36       Yes    Engineer            Low          1.0   \n",
       "1    Male          Yes   37       Yes  Healthcare        Average          4.0   \n",
       "2  Female          Yes   69        No         NaN            Low          1.0   \n",
       "3    Male          Yes   59        No   Executive           High          2.0   \n",
       "4  Female           No   19        No   Marketing            Low          4.0   \n",
       "\n",
       "   Var_1 Segmentation  \n",
       "0  Cat_6            B  \n",
       "1  Cat_6            A  \n",
       "2  Cat_6            A  \n",
       "3  Cat_6            B  \n",
       "4  Cat_6            A  "
      ]
     },
     "execution_count": 73,
     "metadata": {},
     "output_type": "execute_result"
    }
   ],
   "source": [
    "#ID has distinct value for every one\n",
    "#we should just drop this feature:\n",
    "df_test.drop(columns =['ID','Work_Experience'],axis = 1, inplace = True)\n",
    "df_test.head()"
   ]
  },
  {
   "cell_type": "markdown",
   "id": "90ddd1d3",
   "metadata": {},
   "source": [
    "#### Impute the numerical NAs:"
   ]
  },
  {
   "cell_type": "code",
   "execution_count": 74,
   "id": "2a0e7289",
   "metadata": {},
   "outputs": [
    {
     "data": {
      "text/plain": [
       "Gender             0\n",
       "Ever_Married      50\n",
       "Age                0\n",
       "Graduated         24\n",
       "Profession        38\n",
       "Spending_Score     0\n",
       "Family_Size        0\n",
       "Var_1             32\n",
       "Segmentation       0\n",
       "dtype: int64"
      ]
     },
     "execution_count": 74,
     "metadata": {},
     "output_type": "execute_result"
    }
   ],
   "source": [
    "# filling NA with mean value\n",
    "imp = SimpleImputer(missing_values=np.nan, strategy='mean')\n",
    "df_test[numerical_features] = pd.DataFrame(imp.fit_transform(df_test[numerical_features]))\n",
    "df_test.isna().sum(axis=0)"
   ]
  },
  {
   "cell_type": "markdown",
   "id": "d3bba4ba",
   "metadata": {},
   "source": [
    "#### Impute the Categorical NAs:"
   ]
  },
  {
   "cell_type": "code",
   "execution_count": 75,
   "id": "a1eddf3c",
   "metadata": {},
   "outputs": [
    {
     "data": {
      "text/plain": [
       "Gender            0\n",
       "Ever_Married      0\n",
       "Age               0\n",
       "Graduated         0\n",
       "Profession        0\n",
       "Spending_Score    0\n",
       "Family_Size       0\n",
       "Var_1             0\n",
       "Segmentation      0\n",
       "dtype: int64"
      ]
     },
     "execution_count": 75,
     "metadata": {},
     "output_type": "execute_result"
    }
   ],
   "source": [
    "# filling NA with most common class\n",
    "df_test[categorical_features] = df_test[categorical_features].apply(lambda x: x.fillna(x.value_counts().index[0]))\n",
    "df_test.isna().sum(axis=0)"
   ]
  },
  {
   "cell_type": "markdown",
   "id": "aaa21746",
   "metadata": {},
   "source": [
    "### 4.2 Handling with Text and Categorical varibles"
   ]
  },
  {
   "cell_type": "code",
   "execution_count": 76,
   "id": "d0f90c0d",
   "metadata": {},
   "outputs": [],
   "source": [
    "data_test = df_test.copy()\n",
    "df_new = pd.DataFrame()\n",
    "\n",
    "#encoded the multiclass features\n",
    "X = data_test[multi_class_features]\n",
    "ohe = OneHotEncoder()\n",
    "ohe.fit_transform(X).toarray()\n",
    "X_encoded = ohe.fit_transform(X).toarray()\n",
    "feature_names = ohe.get_feature_names_out(input_features=X.columns)\n",
    "multi_class_encoded_data = pd.DataFrame(X_encoded, columns=feature_names)\n",
    "\n",
    "#encoded the ordinal class\n",
    "Y = data_test[ordinal_class_feature]\n",
    "# specify the order with categories parameter\n",
    "enc = OrdinalEncoder(categories=[('Low','Average','High')])\n",
    "ordinal_class_encoded_data = enc.fit_transform(Y)\n",
    "ordinal_class_encoded_data = pd.DataFrame(ordinal_class_encoded_data).rename(columns = {0:'Spending_Score'})\n",
    "\n",
    "#encoded the two class features\n",
    "for feature in two_class_features:\n",
    "    Z = data_test[feature]\n",
    "    le = LabelEncoder()\n",
    "    df_new[feature] = pd.DataFrame(le.fit_transform(Z)).rename(columns = {0:feature})"
   ]
  },
  {
   "cell_type": "code",
   "execution_count": 77,
   "id": "735ee963",
   "metadata": {},
   "outputs": [
    {
     "name": "stdout",
     "output_type": "stream",
     "text": [
      "<class 'pandas.core.frame.DataFrame'>\n",
      "RangeIndex: 2627 entries, 0 to 2626\n",
      "Data columns (total 22 columns):\n",
      " #   Column                    Non-Null Count  Dtype  \n",
      "---  ------                    --------------  -----  \n",
      " 0   Age                       2627 non-null   float64\n",
      " 1   Family_Size               2627 non-null   float64\n",
      " 2   Profession_Artist         2627 non-null   float64\n",
      " 3   Profession_Doctor         2627 non-null   float64\n",
      " 4   Profession_Engineer       2627 non-null   float64\n",
      " 5   Profession_Entertainment  2627 non-null   float64\n",
      " 6   Profession_Executive      2627 non-null   float64\n",
      " 7   Profession_Healthcare     2627 non-null   float64\n",
      " 8   Profession_Homemaker      2627 non-null   float64\n",
      " 9   Profession_Lawyer         2627 non-null   float64\n",
      " 10  Profession_Marketing      2627 non-null   float64\n",
      " 11  Var_1_Cat_1               2627 non-null   float64\n",
      " 12  Var_1_Cat_2               2627 non-null   float64\n",
      " 13  Var_1_Cat_3               2627 non-null   float64\n",
      " 14  Var_1_Cat_4               2627 non-null   float64\n",
      " 15  Var_1_Cat_5               2627 non-null   float64\n",
      " 16  Var_1_Cat_6               2627 non-null   float64\n",
      " 17  Var_1_Cat_7               2627 non-null   float64\n",
      " 18  Gender                    2627 non-null   int64  \n",
      " 19  Ever_Married              2627 non-null   int64  \n",
      " 20  Graduated                 2627 non-null   int64  \n",
      " 21  Segmentation              2627 non-null   int64  \n",
      "dtypes: float64(18), int64(4)\n",
      "memory usage: 451.6 KB\n"
     ]
    }
   ],
   "source": [
    "df_test = pd.concat([data_test[numerical_features], multi_class_encoded_data,df_new], axis=1)\n",
    "df_test.info()"
   ]
  },
  {
   "cell_type": "markdown",
   "id": "56dda41c",
   "metadata": {},
   "source": [
    "# IV.Model Training"
   ]
  },
  {
   "cell_type": "markdown",
   "id": "afb1afda",
   "metadata": {},
   "source": [
    "## 1.Model Scaling"
   ]
  },
  {
   "cell_type": "markdown",
   "id": "ece1102f",
   "metadata": {},
   "source": [
    "### 1.1 For training data set"
   ]
  },
  {
   "cell_type": "markdown",
   "id": "d0d513a0",
   "metadata": {},
   "source": [
    "#### Feature Space"
   ]
  },
  {
   "cell_type": "code",
   "execution_count": 78,
   "id": "7062ddfb",
   "metadata": {},
   "outputs": [
    {
     "name": "stdout",
     "output_type": "stream",
     "text": [
      "features used-  ['Age', 'Family_Size', 'Profession_Artist', 'Profession_Doctor', 'Profession_Engineer', 'Profession_Entertainment', 'Profession_Executive', 'Profession_Healthcare', 'Profession_Homemaker', 'Profession_Lawyer', 'Profession_Marketing', 'Var_1_Cat_1', 'Var_1_Cat_2', 'Var_1_Cat_3', 'Var_1_Cat_4', 'Var_1_Cat_5', 'Var_1_Cat_6', 'Var_1_Cat_7', 'Gender', 'Ever_Married', 'Graduated']\n"
     ]
    }
   ],
   "source": [
    "train_data = df_train.copy()\n",
    "feature_cols = [feature for feature in train_data.columns if feature not in(['Segmentation'])]\n",
    "print('features used- ', feature_cols)\n",
    "\n",
    "#Rescaling to [0,1] \n",
    "scaler = StandardScaler()\n",
    "scaler.fit(train_data[feature_cols])\n",
    "train_data[feature_cols] = scaler.transform(train_data[feature_cols])"
   ]
  },
  {
   "cell_type": "code",
   "execution_count": 79,
   "id": "a9c4ec8b",
   "metadata": {},
   "outputs": [],
   "source": [
    "X = train_data[feature_cols]\n",
    "y = train_data['Segmentation']\n",
    "\n",
    "validation_size = 0.3\n",
    "X_train, X_test, y_train, y_test = train_test_split(X, y, test_size=validation_size, \n",
    "                                                    random_state=42, stratify=y)"
   ]
  },
  {
   "cell_type": "markdown",
   "id": "9f05173b",
   "metadata": {},
   "source": [
    "### 1.2 For testing data set"
   ]
  },
  {
   "cell_type": "code",
   "execution_count": 80,
   "id": "9f77c2dd",
   "metadata": {},
   "outputs": [
    {
     "name": "stdout",
     "output_type": "stream",
     "text": [
      "features used-  ['Age', 'Family_Size', 'Profession_Artist', 'Profession_Doctor', 'Profession_Engineer', 'Profession_Entertainment', 'Profession_Executive', 'Profession_Healthcare', 'Profession_Homemaker', 'Profession_Lawyer', 'Profession_Marketing', 'Var_1_Cat_1', 'Var_1_Cat_2', 'Var_1_Cat_3', 'Var_1_Cat_4', 'Var_1_Cat_5', 'Var_1_Cat_6', 'Var_1_Cat_7', 'Gender', 'Ever_Married', 'Graduated']\n"
     ]
    }
   ],
   "source": [
    "test_data = df_test.copy()\n",
    "feature_cols = [feature for feature in test_data.columns if feature not in(['Segmentation'])]\n",
    "print('features used- ', feature_cols)\n",
    "\n",
    "#Rescaling to [0,1] \n",
    "\n",
    "scaler = StandardScaler()\n",
    "scaler.fit(test_data[feature_cols])\n",
    "test_data[feature_cols] = scaler.transform(test_data[feature_cols])\n",
    "\n",
    "X_to_test = test_data[feature_cols]\n",
    "y_to_test = test_data['Segmentation']"
   ]
  },
  {
   "cell_type": "markdown",
   "id": "888c7889",
   "metadata": {},
   "source": [
    "## 2.Model Score"
   ]
  },
  {
   "cell_type": "markdown",
   "id": "2fa8a7a2",
   "metadata": {},
   "source": [
    "### A. Decision Tree"
   ]
  },
  {
   "cell_type": "code",
   "execution_count": 81,
   "id": "bf5221a5",
   "metadata": {},
   "outputs": [
    {
     "name": "stdout",
     "output_type": "stream",
     "text": [
      "The accuracy score for Decision Tree is 52.003 %\n"
     ]
    }
   ],
   "source": [
    "dct_clf = tree.DecisionTreeClassifier(criterion=\"entropy\",random_state=42,max_depth = 10,min_samples_split = 80,min_samples_leaf =10)\n",
    "dct_clf = dct_clf.fit(X_train,y_train)\n",
    "score = dct_clf.score(X_test, y_test)\n",
    "print(f\"The accuracy score for Decision Tree is {round(score * 100, 3)} %\")"
   ]
  },
  {
   "cell_type": "markdown",
   "id": "9fc73036",
   "metadata": {},
   "source": [
    "### B. Random Forest"
   ]
  },
  {
   "cell_type": "code",
   "execution_count": 82,
   "id": "1a70a5b1",
   "metadata": {},
   "outputs": [
    {
     "name": "stdout",
     "output_type": "stream",
     "text": [
      "The accuracy score for Random Forest Tree is 53.49 %\n"
     ]
    }
   ],
   "source": [
    "from sklearn.ensemble import RandomForestClassifier\n",
    "rf_clf = RandomForestClassifier(n_estimators = 1000,criterion=\"entropy\", random_state=42,max_depth = 10,min_samples_split = 80,min_samples_leaf =10)\n",
    "rf_clf = rf_clf.fit(X_train,y_train)\n",
    "score = rf_clf.score(X_test, y_test)\n",
    "print(f\"The accuracy score for Random Forest Tree is {round(score * 100, 3)} %\")"
   ]
  },
  {
   "cell_type": "markdown",
   "id": "5284959e",
   "metadata": {},
   "source": [
    "# V. Evaluate Model performance"
   ]
  },
  {
   "cell_type": "markdown",
   "id": "119f133f",
   "metadata": {},
   "source": [
    "After creating the models, we pick Random Forest to predict the customer categories in our test data. The reason is that the random forest classifier has the highest score of 53.49%. Then we create a dataframe including the features selected into the model, the true segmentation value and the predicted value."
   ]
  },
  {
   "cell_type": "markdown",
   "id": "1254a2d1",
   "metadata": {},
   "source": [
    "## 1.Depoloyment"
   ]
  },
  {
   "cell_type": "code",
   "execution_count": 83,
   "id": "1c6536ad",
   "metadata": {},
   "outputs": [
    {
     "data": {
      "text/html": [
       "<div>\n",
       "<style scoped>\n",
       "    .dataframe tbody tr th:only-of-type {\n",
       "        vertical-align: middle;\n",
       "    }\n",
       "\n",
       "    .dataframe tbody tr th {\n",
       "        vertical-align: top;\n",
       "    }\n",
       "\n",
       "    .dataframe thead th {\n",
       "        text-align: right;\n",
       "    }\n",
       "</style>\n",
       "<table border=\"1\" class=\"dataframe\">\n",
       "  <thead>\n",
       "    <tr style=\"text-align: right;\">\n",
       "      <th></th>\n",
       "      <th>Age</th>\n",
       "      <th>Family_Size</th>\n",
       "      <th>Profession_Artist</th>\n",
       "      <th>Profession_Doctor</th>\n",
       "      <th>Profession_Engineer</th>\n",
       "      <th>Profession_Entertainment</th>\n",
       "      <th>Profession_Executive</th>\n",
       "      <th>Profession_Healthcare</th>\n",
       "      <th>Profession_Homemaker</th>\n",
       "      <th>Profession_Lawyer</th>\n",
       "      <th>...</th>\n",
       "      <th>Var_1_Cat_3</th>\n",
       "      <th>Var_1_Cat_4</th>\n",
       "      <th>Var_1_Cat_5</th>\n",
       "      <th>Var_1_Cat_6</th>\n",
       "      <th>Var_1_Cat_7</th>\n",
       "      <th>Gender</th>\n",
       "      <th>Ever_Married</th>\n",
       "      <th>Graduated</th>\n",
       "      <th>Segmentation</th>\n",
       "      <th>Prediction</th>\n",
       "    </tr>\n",
       "  </thead>\n",
       "  <tbody>\n",
       "    <tr>\n",
       "      <th>0</th>\n",
       "      <td>-0.450948</td>\n",
       "      <td>-1.202600</td>\n",
       "      <td>-0.685610</td>\n",
       "      <td>-0.318540</td>\n",
       "      <td>3.182979</td>\n",
       "      <td>-0.359731</td>\n",
       "      <td>-0.267969</td>\n",
       "      <td>-0.435001</td>\n",
       "      <td>-0.179499</td>\n",
       "      <td>-0.303074</td>\n",
       "      <td>...</td>\n",
       "      <td>-0.336356</td>\n",
       "      <td>-0.415024</td>\n",
       "      <td>-0.105652</td>\n",
       "      <td>0.735980</td>\n",
       "      <td>-0.160534</td>\n",
       "      <td>-1.087983</td>\n",
       "      <td>0.820517</td>\n",
       "      <td>0.784615</td>\n",
       "      <td>1</td>\n",
       "      <td>0</td>\n",
       "    </tr>\n",
       "    <tr>\n",
       "      <th>1</th>\n",
       "      <td>-0.391999</td>\n",
       "      <td>0.773867</td>\n",
       "      <td>-0.685610</td>\n",
       "      <td>-0.318540</td>\n",
       "      <td>-0.314171</td>\n",
       "      <td>-0.359731</td>\n",
       "      <td>-0.267969</td>\n",
       "      <td>2.298845</td>\n",
       "      <td>-0.179499</td>\n",
       "      <td>-0.303074</td>\n",
       "      <td>...</td>\n",
       "      <td>-0.336356</td>\n",
       "      <td>-0.415024</td>\n",
       "      <td>-0.105652</td>\n",
       "      <td>0.735980</td>\n",
       "      <td>-0.160534</td>\n",
       "      <td>0.919132</td>\n",
       "      <td>0.820517</td>\n",
       "      <td>0.784615</td>\n",
       "      <td>0</td>\n",
       "      <td>3</td>\n",
       "    </tr>\n",
       "    <tr>\n",
       "      <th>2</th>\n",
       "      <td>1.494372</td>\n",
       "      <td>-1.202600</td>\n",
       "      <td>1.458554</td>\n",
       "      <td>-0.318540</td>\n",
       "      <td>-0.314171</td>\n",
       "      <td>-0.359731</td>\n",
       "      <td>-0.267969</td>\n",
       "      <td>-0.435001</td>\n",
       "      <td>-0.179499</td>\n",
       "      <td>-0.303074</td>\n",
       "      <td>...</td>\n",
       "      <td>-0.336356</td>\n",
       "      <td>-0.415024</td>\n",
       "      <td>-0.105652</td>\n",
       "      <td>0.735980</td>\n",
       "      <td>-0.160534</td>\n",
       "      <td>-1.087983</td>\n",
       "      <td>0.820517</td>\n",
       "      <td>-1.274510</td>\n",
       "      <td>0</td>\n",
       "      <td>1</td>\n",
       "    </tr>\n",
       "    <tr>\n",
       "      <th>3</th>\n",
       "      <td>0.904881</td>\n",
       "      <td>-0.543777</td>\n",
       "      <td>-0.685610</td>\n",
       "      <td>-0.318540</td>\n",
       "      <td>-0.314171</td>\n",
       "      <td>-0.359731</td>\n",
       "      <td>3.731774</td>\n",
       "      <td>-0.435001</td>\n",
       "      <td>-0.179499</td>\n",
       "      <td>-0.303074</td>\n",
       "      <td>...</td>\n",
       "      <td>-0.336356</td>\n",
       "      <td>-0.415024</td>\n",
       "      <td>-0.105652</td>\n",
       "      <td>0.735980</td>\n",
       "      <td>-0.160534</td>\n",
       "      <td>0.919132</td>\n",
       "      <td>0.820517</td>\n",
       "      <td>-1.274510</td>\n",
       "      <td>1</td>\n",
       "      <td>1</td>\n",
       "    </tr>\n",
       "    <tr>\n",
       "      <th>4</th>\n",
       "      <td>-1.453083</td>\n",
       "      <td>0.773867</td>\n",
       "      <td>-0.685610</td>\n",
       "      <td>-0.318540</td>\n",
       "      <td>-0.314171</td>\n",
       "      <td>-0.359731</td>\n",
       "      <td>-0.267969</td>\n",
       "      <td>-0.435001</td>\n",
       "      <td>-0.179499</td>\n",
       "      <td>-0.303074</td>\n",
       "      <td>...</td>\n",
       "      <td>-0.336356</td>\n",
       "      <td>-0.415024</td>\n",
       "      <td>-0.105652</td>\n",
       "      <td>0.735980</td>\n",
       "      <td>-0.160534</td>\n",
       "      <td>-1.087983</td>\n",
       "      <td>-1.218744</td>\n",
       "      <td>-1.274510</td>\n",
       "      <td>0</td>\n",
       "      <td>3</td>\n",
       "    </tr>\n",
       "    <tr>\n",
       "      <th>...</th>\n",
       "      <td>...</td>\n",
       "      <td>...</td>\n",
       "      <td>...</td>\n",
       "      <td>...</td>\n",
       "      <td>...</td>\n",
       "      <td>...</td>\n",
       "      <td>...</td>\n",
       "      <td>...</td>\n",
       "      <td>...</td>\n",
       "      <td>...</td>\n",
       "      <td>...</td>\n",
       "      <td>...</td>\n",
       "      <td>...</td>\n",
       "      <td>...</td>\n",
       "      <td>...</td>\n",
       "      <td>...</td>\n",
       "      <td>...</td>\n",
       "      <td>...</td>\n",
       "      <td>...</td>\n",
       "      <td>...</td>\n",
       "      <td>...</td>\n",
       "    </tr>\n",
       "    <tr>\n",
       "      <th>2622</th>\n",
       "      <td>-0.863592</td>\n",
       "      <td>0.773867</td>\n",
       "      <td>-0.685610</td>\n",
       "      <td>-0.318540</td>\n",
       "      <td>-0.314171</td>\n",
       "      <td>-0.359731</td>\n",
       "      <td>-0.267969</td>\n",
       "      <td>2.298845</td>\n",
       "      <td>-0.179499</td>\n",
       "      <td>-0.303074</td>\n",
       "      <td>...</td>\n",
       "      <td>-0.336356</td>\n",
       "      <td>-0.415024</td>\n",
       "      <td>-0.105652</td>\n",
       "      <td>0.735980</td>\n",
       "      <td>-0.160534</td>\n",
       "      <td>0.919132</td>\n",
       "      <td>-1.218744</td>\n",
       "      <td>-1.274510</td>\n",
       "      <td>1</td>\n",
       "      <td>3</td>\n",
       "    </tr>\n",
       "    <tr>\n",
       "      <th>2623</th>\n",
       "      <td>-0.509897</td>\n",
       "      <td>-1.202600</td>\n",
       "      <td>-0.685610</td>\n",
       "      <td>3.139327</td>\n",
       "      <td>-0.314171</td>\n",
       "      <td>-0.359731</td>\n",
       "      <td>-0.267969</td>\n",
       "      <td>-0.435001</td>\n",
       "      <td>-0.179499</td>\n",
       "      <td>-0.303074</td>\n",
       "      <td>...</td>\n",
       "      <td>-0.336356</td>\n",
       "      <td>-0.415024</td>\n",
       "      <td>-0.105652</td>\n",
       "      <td>0.735980</td>\n",
       "      <td>-0.160534</td>\n",
       "      <td>-1.087983</td>\n",
       "      <td>-1.218744</td>\n",
       "      <td>0.784615</td>\n",
       "      <td>0</td>\n",
       "      <td>0</td>\n",
       "    </tr>\n",
       "    <tr>\n",
       "      <th>2624</th>\n",
       "      <td>0.551187</td>\n",
       "      <td>-0.543777</td>\n",
       "      <td>-0.685610</td>\n",
       "      <td>-0.318540</td>\n",
       "      <td>-0.314171</td>\n",
       "      <td>2.779852</td>\n",
       "      <td>-0.267969</td>\n",
       "      <td>-0.435001</td>\n",
       "      <td>-0.179499</td>\n",
       "      <td>-0.303074</td>\n",
       "      <td>...</td>\n",
       "      <td>-0.336356</td>\n",
       "      <td>-0.415024</td>\n",
       "      <td>-0.105652</td>\n",
       "      <td>0.735980</td>\n",
       "      <td>-0.160534</td>\n",
       "      <td>-1.087983</td>\n",
       "      <td>-1.218744</td>\n",
       "      <td>0.784615</td>\n",
       "      <td>2</td>\n",
       "      <td>0</td>\n",
       "    </tr>\n",
       "    <tr>\n",
       "      <th>2625</th>\n",
       "      <td>0.197492</td>\n",
       "      <td>1.432690</td>\n",
       "      <td>-0.685610</td>\n",
       "      <td>-0.318540</td>\n",
       "      <td>-0.314171</td>\n",
       "      <td>-0.359731</td>\n",
       "      <td>3.731774</td>\n",
       "      <td>-0.435001</td>\n",
       "      <td>-0.179499</td>\n",
       "      <td>-0.303074</td>\n",
       "      <td>...</td>\n",
       "      <td>-0.336356</td>\n",
       "      <td>2.409502</td>\n",
       "      <td>-0.105652</td>\n",
       "      <td>-1.358732</td>\n",
       "      <td>-0.160534</td>\n",
       "      <td>0.919132</td>\n",
       "      <td>0.820517</td>\n",
       "      <td>0.784615</td>\n",
       "      <td>2</td>\n",
       "      <td>1</td>\n",
       "    </tr>\n",
       "    <tr>\n",
       "      <th>2626</th>\n",
       "      <td>-0.038305</td>\n",
       "      <td>0.115045</td>\n",
       "      <td>-0.685610</td>\n",
       "      <td>-0.318540</td>\n",
       "      <td>-0.314171</td>\n",
       "      <td>-0.359731</td>\n",
       "      <td>-0.267969</td>\n",
       "      <td>2.298845</td>\n",
       "      <td>-0.179499</td>\n",
       "      <td>-0.303074</td>\n",
       "      <td>...</td>\n",
       "      <td>-0.336356</td>\n",
       "      <td>-0.415024</td>\n",
       "      <td>-0.105652</td>\n",
       "      <td>-1.358732</td>\n",
       "      <td>6.229208</td>\n",
       "      <td>-1.087983</td>\n",
       "      <td>-1.218744</td>\n",
       "      <td>0.784615</td>\n",
       "      <td>0</td>\n",
       "      <td>3</td>\n",
       "    </tr>\n",
       "  </tbody>\n",
       "</table>\n",
       "<p>2627 rows × 23 columns</p>\n",
       "</div>"
      ],
      "text/plain": [
       "           Age  Family_Size  Profession_Artist  Profession_Doctor  \\\n",
       "0    -0.450948    -1.202600          -0.685610          -0.318540   \n",
       "1    -0.391999     0.773867          -0.685610          -0.318540   \n",
       "2     1.494372    -1.202600           1.458554          -0.318540   \n",
       "3     0.904881    -0.543777          -0.685610          -0.318540   \n",
       "4    -1.453083     0.773867          -0.685610          -0.318540   \n",
       "...        ...          ...                ...                ...   \n",
       "2622 -0.863592     0.773867          -0.685610          -0.318540   \n",
       "2623 -0.509897    -1.202600          -0.685610           3.139327   \n",
       "2624  0.551187    -0.543777          -0.685610          -0.318540   \n",
       "2625  0.197492     1.432690          -0.685610          -0.318540   \n",
       "2626 -0.038305     0.115045          -0.685610          -0.318540   \n",
       "\n",
       "      Profession_Engineer  Profession_Entertainment  Profession_Executive  \\\n",
       "0                3.182979                 -0.359731             -0.267969   \n",
       "1               -0.314171                 -0.359731             -0.267969   \n",
       "2               -0.314171                 -0.359731             -0.267969   \n",
       "3               -0.314171                 -0.359731              3.731774   \n",
       "4               -0.314171                 -0.359731             -0.267969   \n",
       "...                   ...                       ...                   ...   \n",
       "2622            -0.314171                 -0.359731             -0.267969   \n",
       "2623            -0.314171                 -0.359731             -0.267969   \n",
       "2624            -0.314171                  2.779852             -0.267969   \n",
       "2625            -0.314171                 -0.359731              3.731774   \n",
       "2626            -0.314171                 -0.359731             -0.267969   \n",
       "\n",
       "      Profession_Healthcare  Profession_Homemaker  Profession_Lawyer  ...  \\\n",
       "0                 -0.435001             -0.179499          -0.303074  ...   \n",
       "1                  2.298845             -0.179499          -0.303074  ...   \n",
       "2                 -0.435001             -0.179499          -0.303074  ...   \n",
       "3                 -0.435001             -0.179499          -0.303074  ...   \n",
       "4                 -0.435001             -0.179499          -0.303074  ...   \n",
       "...                     ...                   ...                ...  ...   \n",
       "2622               2.298845             -0.179499          -0.303074  ...   \n",
       "2623              -0.435001             -0.179499          -0.303074  ...   \n",
       "2624              -0.435001             -0.179499          -0.303074  ...   \n",
       "2625              -0.435001             -0.179499          -0.303074  ...   \n",
       "2626               2.298845             -0.179499          -0.303074  ...   \n",
       "\n",
       "      Var_1_Cat_3  Var_1_Cat_4  Var_1_Cat_5  Var_1_Cat_6  Var_1_Cat_7  \\\n",
       "0       -0.336356    -0.415024    -0.105652     0.735980    -0.160534   \n",
       "1       -0.336356    -0.415024    -0.105652     0.735980    -0.160534   \n",
       "2       -0.336356    -0.415024    -0.105652     0.735980    -0.160534   \n",
       "3       -0.336356    -0.415024    -0.105652     0.735980    -0.160534   \n",
       "4       -0.336356    -0.415024    -0.105652     0.735980    -0.160534   \n",
       "...           ...          ...          ...          ...          ...   \n",
       "2622    -0.336356    -0.415024    -0.105652     0.735980    -0.160534   \n",
       "2623    -0.336356    -0.415024    -0.105652     0.735980    -0.160534   \n",
       "2624    -0.336356    -0.415024    -0.105652     0.735980    -0.160534   \n",
       "2625    -0.336356     2.409502    -0.105652    -1.358732    -0.160534   \n",
       "2626    -0.336356    -0.415024    -0.105652    -1.358732     6.229208   \n",
       "\n",
       "        Gender  Ever_Married  Graduated  Segmentation  Prediction  \n",
       "0    -1.087983      0.820517   0.784615             1           0  \n",
       "1     0.919132      0.820517   0.784615             0           3  \n",
       "2    -1.087983      0.820517  -1.274510             0           1  \n",
       "3     0.919132      0.820517  -1.274510             1           1  \n",
       "4    -1.087983     -1.218744  -1.274510             0           3  \n",
       "...        ...           ...        ...           ...         ...  \n",
       "2622  0.919132     -1.218744  -1.274510             1           3  \n",
       "2623 -1.087983     -1.218744   0.784615             0           0  \n",
       "2624 -1.087983     -1.218744   0.784615             2           0  \n",
       "2625  0.919132      0.820517   0.784615             2           1  \n",
       "2626 -1.087983     -1.218744   0.784615             0           3  \n",
       "\n",
       "[2627 rows x 23 columns]"
      ]
     },
     "execution_count": 83,
     "metadata": {},
     "output_type": "execute_result"
    }
   ],
   "source": [
    "pred_Y = rf_clf.predict(X_to_test)\n",
    "predDf = pd.DataFrame(pred_Y,columns = ['Prediction'])\n",
    "df_result = pd.concat([X_to_test,y_to_test,predDf],axis=1)\n",
    "df_result"
   ]
  },
  {
   "cell_type": "markdown",
   "id": "6e1acd56",
   "metadata": {},
   "source": [
    "we would like to see which samples in the test data are not predicted correctly. The output data frame below show the instances not correctly predicted."
   ]
  },
  {
   "cell_type": "code",
   "execution_count": 84,
   "id": "9ff46d9c",
   "metadata": {},
   "outputs": [
    {
     "data": {
      "text/html": [
       "<div>\n",
       "<style scoped>\n",
       "    .dataframe tbody tr th:only-of-type {\n",
       "        vertical-align: middle;\n",
       "    }\n",
       "\n",
       "    .dataframe tbody tr th {\n",
       "        vertical-align: top;\n",
       "    }\n",
       "\n",
       "    .dataframe thead th {\n",
       "        text-align: right;\n",
       "    }\n",
       "</style>\n",
       "<table border=\"1\" class=\"dataframe\">\n",
       "  <thead>\n",
       "    <tr style=\"text-align: right;\">\n",
       "      <th></th>\n",
       "      <th>Age</th>\n",
       "      <th>Family_Size</th>\n",
       "      <th>Profession_Artist</th>\n",
       "      <th>Profession_Doctor</th>\n",
       "      <th>Profession_Engineer</th>\n",
       "      <th>Profession_Entertainment</th>\n",
       "      <th>Profession_Executive</th>\n",
       "      <th>Profession_Healthcare</th>\n",
       "      <th>Profession_Homemaker</th>\n",
       "      <th>Profession_Lawyer</th>\n",
       "      <th>...</th>\n",
       "      <th>Var_1_Cat_3</th>\n",
       "      <th>Var_1_Cat_4</th>\n",
       "      <th>Var_1_Cat_5</th>\n",
       "      <th>Var_1_Cat_6</th>\n",
       "      <th>Var_1_Cat_7</th>\n",
       "      <th>Gender</th>\n",
       "      <th>Ever_Married</th>\n",
       "      <th>Graduated</th>\n",
       "      <th>Segmentation</th>\n",
       "      <th>Prediction</th>\n",
       "    </tr>\n",
       "  </thead>\n",
       "  <tbody>\n",
       "    <tr>\n",
       "      <th>0</th>\n",
       "      <td>-0.450948</td>\n",
       "      <td>-1.202600</td>\n",
       "      <td>-0.685610</td>\n",
       "      <td>-0.318540</td>\n",
       "      <td>3.182979</td>\n",
       "      <td>-0.359731</td>\n",
       "      <td>-0.267969</td>\n",
       "      <td>-0.435001</td>\n",
       "      <td>-0.179499</td>\n",
       "      <td>-0.303074</td>\n",
       "      <td>...</td>\n",
       "      <td>-0.336356</td>\n",
       "      <td>-0.415024</td>\n",
       "      <td>-0.105652</td>\n",
       "      <td>0.735980</td>\n",
       "      <td>-0.160534</td>\n",
       "      <td>-1.087983</td>\n",
       "      <td>0.820517</td>\n",
       "      <td>0.784615</td>\n",
       "      <td>1.0</td>\n",
       "      <td>0.0</td>\n",
       "    </tr>\n",
       "    <tr>\n",
       "      <th>1</th>\n",
       "      <td>-0.391999</td>\n",
       "      <td>0.773867</td>\n",
       "      <td>-0.685610</td>\n",
       "      <td>-0.318540</td>\n",
       "      <td>-0.314171</td>\n",
       "      <td>-0.359731</td>\n",
       "      <td>-0.267969</td>\n",
       "      <td>2.298845</td>\n",
       "      <td>-0.179499</td>\n",
       "      <td>-0.303074</td>\n",
       "      <td>...</td>\n",
       "      <td>-0.336356</td>\n",
       "      <td>-0.415024</td>\n",
       "      <td>-0.105652</td>\n",
       "      <td>0.735980</td>\n",
       "      <td>-0.160534</td>\n",
       "      <td>0.919132</td>\n",
       "      <td>0.820517</td>\n",
       "      <td>0.784615</td>\n",
       "      <td>0.0</td>\n",
       "      <td>3.0</td>\n",
       "    </tr>\n",
       "    <tr>\n",
       "      <th>2</th>\n",
       "      <td>1.494372</td>\n",
       "      <td>-1.202600</td>\n",
       "      <td>1.458554</td>\n",
       "      <td>-0.318540</td>\n",
       "      <td>-0.314171</td>\n",
       "      <td>-0.359731</td>\n",
       "      <td>-0.267969</td>\n",
       "      <td>-0.435001</td>\n",
       "      <td>-0.179499</td>\n",
       "      <td>-0.303074</td>\n",
       "      <td>...</td>\n",
       "      <td>-0.336356</td>\n",
       "      <td>-0.415024</td>\n",
       "      <td>-0.105652</td>\n",
       "      <td>0.735980</td>\n",
       "      <td>-0.160534</td>\n",
       "      <td>-1.087983</td>\n",
       "      <td>0.820517</td>\n",
       "      <td>-1.274510</td>\n",
       "      <td>0.0</td>\n",
       "      <td>1.0</td>\n",
       "    </tr>\n",
       "    <tr>\n",
       "      <th>4</th>\n",
       "      <td>-1.453083</td>\n",
       "      <td>0.773867</td>\n",
       "      <td>-0.685610</td>\n",
       "      <td>-0.318540</td>\n",
       "      <td>-0.314171</td>\n",
       "      <td>-0.359731</td>\n",
       "      <td>-0.267969</td>\n",
       "      <td>-0.435001</td>\n",
       "      <td>-0.179499</td>\n",
       "      <td>-0.303074</td>\n",
       "      <td>...</td>\n",
       "      <td>-0.336356</td>\n",
       "      <td>-0.415024</td>\n",
       "      <td>-0.105652</td>\n",
       "      <td>0.735980</td>\n",
       "      <td>-0.160534</td>\n",
       "      <td>-1.087983</td>\n",
       "      <td>-1.218744</td>\n",
       "      <td>-1.274510</td>\n",
       "      <td>0.0</td>\n",
       "      <td>3.0</td>\n",
       "    </tr>\n",
       "    <tr>\n",
       "      <th>5</th>\n",
       "      <td>0.197492</td>\n",
       "      <td>1.432690</td>\n",
       "      <td>-0.685610</td>\n",
       "      <td>3.139327</td>\n",
       "      <td>-0.314171</td>\n",
       "      <td>-0.359731</td>\n",
       "      <td>-0.267969</td>\n",
       "      <td>-0.435001</td>\n",
       "      <td>-0.179499</td>\n",
       "      <td>-0.303074</td>\n",
       "      <td>...</td>\n",
       "      <td>-0.336356</td>\n",
       "      <td>2.409502</td>\n",
       "      <td>-0.105652</td>\n",
       "      <td>-1.358732</td>\n",
       "      <td>-0.160534</td>\n",
       "      <td>0.919132</td>\n",
       "      <td>0.820517</td>\n",
       "      <td>0.784615</td>\n",
       "      <td>2.0</td>\n",
       "      <td>1.0</td>\n",
       "    </tr>\n",
       "    <tr>\n",
       "      <th>...</th>\n",
       "      <td>...</td>\n",
       "      <td>...</td>\n",
       "      <td>...</td>\n",
       "      <td>...</td>\n",
       "      <td>...</td>\n",
       "      <td>...</td>\n",
       "      <td>...</td>\n",
       "      <td>...</td>\n",
       "      <td>...</td>\n",
       "      <td>...</td>\n",
       "      <td>...</td>\n",
       "      <td>...</td>\n",
       "      <td>...</td>\n",
       "      <td>...</td>\n",
       "      <td>...</td>\n",
       "      <td>...</td>\n",
       "      <td>...</td>\n",
       "      <td>...</td>\n",
       "      <td>...</td>\n",
       "      <td>...</td>\n",
       "      <td>...</td>\n",
       "    </tr>\n",
       "    <tr>\n",
       "      <th>2621</th>\n",
       "      <td>-0.509897</td>\n",
       "      <td>-0.543777</td>\n",
       "      <td>-0.685610</td>\n",
       "      <td>-0.318540</td>\n",
       "      <td>-0.314171</td>\n",
       "      <td>2.779852</td>\n",
       "      <td>-0.267969</td>\n",
       "      <td>-0.435001</td>\n",
       "      <td>-0.179499</td>\n",
       "      <td>-0.303074</td>\n",
       "      <td>...</td>\n",
       "      <td>-0.336356</td>\n",
       "      <td>-0.415024</td>\n",
       "      <td>-0.105652</td>\n",
       "      <td>0.735980</td>\n",
       "      <td>-0.160534</td>\n",
       "      <td>-1.087983</td>\n",
       "      <td>-1.218744</td>\n",
       "      <td>0.784615</td>\n",
       "      <td>3.0</td>\n",
       "      <td>0.0</td>\n",
       "    </tr>\n",
       "    <tr>\n",
       "      <th>2622</th>\n",
       "      <td>-0.863592</td>\n",
       "      <td>0.773867</td>\n",
       "      <td>-0.685610</td>\n",
       "      <td>-0.318540</td>\n",
       "      <td>-0.314171</td>\n",
       "      <td>-0.359731</td>\n",
       "      <td>-0.267969</td>\n",
       "      <td>2.298845</td>\n",
       "      <td>-0.179499</td>\n",
       "      <td>-0.303074</td>\n",
       "      <td>...</td>\n",
       "      <td>-0.336356</td>\n",
       "      <td>-0.415024</td>\n",
       "      <td>-0.105652</td>\n",
       "      <td>0.735980</td>\n",
       "      <td>-0.160534</td>\n",
       "      <td>0.919132</td>\n",
       "      <td>-1.218744</td>\n",
       "      <td>-1.274510</td>\n",
       "      <td>1.0</td>\n",
       "      <td>3.0</td>\n",
       "    </tr>\n",
       "    <tr>\n",
       "      <th>2624</th>\n",
       "      <td>0.551187</td>\n",
       "      <td>-0.543777</td>\n",
       "      <td>-0.685610</td>\n",
       "      <td>-0.318540</td>\n",
       "      <td>-0.314171</td>\n",
       "      <td>2.779852</td>\n",
       "      <td>-0.267969</td>\n",
       "      <td>-0.435001</td>\n",
       "      <td>-0.179499</td>\n",
       "      <td>-0.303074</td>\n",
       "      <td>...</td>\n",
       "      <td>-0.336356</td>\n",
       "      <td>-0.415024</td>\n",
       "      <td>-0.105652</td>\n",
       "      <td>0.735980</td>\n",
       "      <td>-0.160534</td>\n",
       "      <td>-1.087983</td>\n",
       "      <td>-1.218744</td>\n",
       "      <td>0.784615</td>\n",
       "      <td>2.0</td>\n",
       "      <td>0.0</td>\n",
       "    </tr>\n",
       "    <tr>\n",
       "      <th>2625</th>\n",
       "      <td>0.197492</td>\n",
       "      <td>1.432690</td>\n",
       "      <td>-0.685610</td>\n",
       "      <td>-0.318540</td>\n",
       "      <td>-0.314171</td>\n",
       "      <td>-0.359731</td>\n",
       "      <td>3.731774</td>\n",
       "      <td>-0.435001</td>\n",
       "      <td>-0.179499</td>\n",
       "      <td>-0.303074</td>\n",
       "      <td>...</td>\n",
       "      <td>-0.336356</td>\n",
       "      <td>2.409502</td>\n",
       "      <td>-0.105652</td>\n",
       "      <td>-1.358732</td>\n",
       "      <td>-0.160534</td>\n",
       "      <td>0.919132</td>\n",
       "      <td>0.820517</td>\n",
       "      <td>0.784615</td>\n",
       "      <td>2.0</td>\n",
       "      <td>1.0</td>\n",
       "    </tr>\n",
       "    <tr>\n",
       "      <th>2626</th>\n",
       "      <td>-0.038305</td>\n",
       "      <td>0.115045</td>\n",
       "      <td>-0.685610</td>\n",
       "      <td>-0.318540</td>\n",
       "      <td>-0.314171</td>\n",
       "      <td>-0.359731</td>\n",
       "      <td>-0.267969</td>\n",
       "      <td>2.298845</td>\n",
       "      <td>-0.179499</td>\n",
       "      <td>-0.303074</td>\n",
       "      <td>...</td>\n",
       "      <td>-0.336356</td>\n",
       "      <td>-0.415024</td>\n",
       "      <td>-0.105652</td>\n",
       "      <td>-1.358732</td>\n",
       "      <td>6.229208</td>\n",
       "      <td>-1.087983</td>\n",
       "      <td>-1.218744</td>\n",
       "      <td>0.784615</td>\n",
       "      <td>0.0</td>\n",
       "      <td>3.0</td>\n",
       "    </tr>\n",
       "  </tbody>\n",
       "</table>\n",
       "<p>1749 rows × 23 columns</p>\n",
       "</div>"
      ],
      "text/plain": [
       "           Age  Family_Size  Profession_Artist  Profession_Doctor  \\\n",
       "0    -0.450948    -1.202600          -0.685610          -0.318540   \n",
       "1    -0.391999     0.773867          -0.685610          -0.318540   \n",
       "2     1.494372    -1.202600           1.458554          -0.318540   \n",
       "4    -1.453083     0.773867          -0.685610          -0.318540   \n",
       "5     0.197492     1.432690          -0.685610           3.139327   \n",
       "...        ...          ...                ...                ...   \n",
       "2621 -0.509897    -0.543777          -0.685610          -0.318540   \n",
       "2622 -0.863592     0.773867          -0.685610          -0.318540   \n",
       "2624  0.551187    -0.543777          -0.685610          -0.318540   \n",
       "2625  0.197492     1.432690          -0.685610          -0.318540   \n",
       "2626 -0.038305     0.115045          -0.685610          -0.318540   \n",
       "\n",
       "      Profession_Engineer  Profession_Entertainment  Profession_Executive  \\\n",
       "0                3.182979                 -0.359731             -0.267969   \n",
       "1               -0.314171                 -0.359731             -0.267969   \n",
       "2               -0.314171                 -0.359731             -0.267969   \n",
       "4               -0.314171                 -0.359731             -0.267969   \n",
       "5               -0.314171                 -0.359731             -0.267969   \n",
       "...                   ...                       ...                   ...   \n",
       "2621            -0.314171                  2.779852             -0.267969   \n",
       "2622            -0.314171                 -0.359731             -0.267969   \n",
       "2624            -0.314171                  2.779852             -0.267969   \n",
       "2625            -0.314171                 -0.359731              3.731774   \n",
       "2626            -0.314171                 -0.359731             -0.267969   \n",
       "\n",
       "      Profession_Healthcare  Profession_Homemaker  Profession_Lawyer  ...  \\\n",
       "0                 -0.435001             -0.179499          -0.303074  ...   \n",
       "1                  2.298845             -0.179499          -0.303074  ...   \n",
       "2                 -0.435001             -0.179499          -0.303074  ...   \n",
       "4                 -0.435001             -0.179499          -0.303074  ...   \n",
       "5                 -0.435001             -0.179499          -0.303074  ...   \n",
       "...                     ...                   ...                ...  ...   \n",
       "2621              -0.435001             -0.179499          -0.303074  ...   \n",
       "2622               2.298845             -0.179499          -0.303074  ...   \n",
       "2624              -0.435001             -0.179499          -0.303074  ...   \n",
       "2625              -0.435001             -0.179499          -0.303074  ...   \n",
       "2626               2.298845             -0.179499          -0.303074  ...   \n",
       "\n",
       "      Var_1_Cat_3  Var_1_Cat_4  Var_1_Cat_5  Var_1_Cat_6  Var_1_Cat_7  \\\n",
       "0       -0.336356    -0.415024    -0.105652     0.735980    -0.160534   \n",
       "1       -0.336356    -0.415024    -0.105652     0.735980    -0.160534   \n",
       "2       -0.336356    -0.415024    -0.105652     0.735980    -0.160534   \n",
       "4       -0.336356    -0.415024    -0.105652     0.735980    -0.160534   \n",
       "5       -0.336356     2.409502    -0.105652    -1.358732    -0.160534   \n",
       "...           ...          ...          ...          ...          ...   \n",
       "2621    -0.336356    -0.415024    -0.105652     0.735980    -0.160534   \n",
       "2622    -0.336356    -0.415024    -0.105652     0.735980    -0.160534   \n",
       "2624    -0.336356    -0.415024    -0.105652     0.735980    -0.160534   \n",
       "2625    -0.336356     2.409502    -0.105652    -1.358732    -0.160534   \n",
       "2626    -0.336356    -0.415024    -0.105652    -1.358732     6.229208   \n",
       "\n",
       "        Gender  Ever_Married  Graduated  Segmentation  Prediction  \n",
       "0    -1.087983      0.820517   0.784615           1.0         0.0  \n",
       "1     0.919132      0.820517   0.784615           0.0         3.0  \n",
       "2    -1.087983      0.820517  -1.274510           0.0         1.0  \n",
       "4    -1.087983     -1.218744  -1.274510           0.0         3.0  \n",
       "5     0.919132      0.820517   0.784615           2.0         1.0  \n",
       "...        ...           ...        ...           ...         ...  \n",
       "2621 -1.087983     -1.218744   0.784615           3.0         0.0  \n",
       "2622  0.919132     -1.218744  -1.274510           1.0         3.0  \n",
       "2624 -1.087983     -1.218744   0.784615           2.0         0.0  \n",
       "2625  0.919132      0.820517   0.784615           2.0         1.0  \n",
       "2626 -1.087983     -1.218744   0.784615           0.0         3.0  \n",
       "\n",
       "[1749 rows x 23 columns]"
      ]
     },
     "execution_count": 84,
     "metadata": {},
     "output_type": "execute_result"
    }
   ],
   "source": [
    "wrong_rows = []\n",
    "\n",
    "# Iterate over the DataFrame rows\n",
    "for i, row in df_result.iterrows():\n",
    "    if row['Segmentation'] != row['Prediction']:\n",
    "        wrong_rows.append(df_result.loc[i])\n",
    "\n",
    "# Convert the list of rows to a DataFrame\n",
    "wrong_result = pd.DataFrame(wrong_rows)\n",
    "\n",
    "# Display the result\n",
    "wrong_result"
   ]
  },
  {
   "cell_type": "markdown",
   "id": "878ab38b",
   "metadata": {},
   "source": [
    "## 2.Potential Reasons of Failed Prediction"
   ]
  },
  {
   "cell_type": "markdown",
   "id": "8d761bbc",
   "metadata": {},
   "source": [
    "### A. Pre-pruning timing"
   ]
  },
  {
   "cell_type": "markdown",
   "id": "7ea9f728",
   "metadata": {},
   "source": [
    "When there is noise in the data, decision tree may overfit the training samples if we let the tree to grow without controling its depth and splitting criterions.\n",
    "We choose to adjust the parameters including the max_depth, min_samples_split and min_samples_leaf to do pre-pruning before building decision trees aimied at preventing overfitting.\n",
    "But as it is difficult to precisely estimate when to stop growing the trees, the pre-pruning approach can only solve the overfitting problem partially.\n",
    "One possible solution to further improve the model performance is to apply post-pruning as an alternative way of avoiding overfitting."
   ]
  },
  {
   "cell_type": "markdown",
   "id": "2beb45d0",
   "metadata": {},
   "source": [
    "### B. Small Sample Size"
   ]
  },
  {
   "cell_type": "markdown",
   "id": "35f39d24",
   "metadata": {},
   "source": [
    "Since we use approximately 9000 rows dataset, perhaps the model is underfitting, as the model performance is sligtly over 0.5. The possible solution for this is to make up a bigger dataset."
   ]
  }
 ],
 "metadata": {
  "kernelspec": {
   "display_name": "Python 3 (ipykernel)",
   "language": "python",
   "name": "python3"
  },
  "language_info": {
   "codemirror_mode": {
    "name": "ipython",
    "version": 3
   },
   "file_extension": ".py",
   "mimetype": "text/x-python",
   "name": "python",
   "nbconvert_exporter": "python",
   "pygments_lexer": "ipython3",
   "version": "3.12.6"
  }
 },
 "nbformat": 4,
 "nbformat_minor": 5
}
